{
 "cells": [
  {
   "cell_type": "markdown",
   "metadata": {},
   "source": [
    "# Lab 1"
   ]
  },
  {
   "cell_type": "markdown",
   "metadata": {},
   "source": [
    "## 1: Precedencia"
   ]
  },
  {
   "cell_type": "code",
   "execution_count": 1,
   "metadata": {},
   "outputs": [
    {
     "name": "stdout",
     "output_type": "stream",
     "text": [
      "30.884615384615383\n",
      "0.4107142857142857\n",
      "26.538461538461537\n",
      "0.029487179487179487\n"
     ]
    }
   ],
   "source": [
    "x, y, z = 23, 26, 30\n",
    "\n",
    "print(x / y + z)\n",
    "print(x / (y + z))\n",
    "print(x / y * z)\n",
    "print(x / (y * z))"
   ]
  },
  {
   "cell_type": "markdown",
   "metadata": {},
   "source": [
    "La precedencia es:\n",
    "- Paréntesis\n",
    "- Exponentes\n",
    "- Multiplicación y División (de izquierda a derecha)\n",
    "- Suma y resta (de izquierda a derecha)"
   ]
  },
  {
   "cell_type": "markdown",
   "metadata": {},
   "source": [
    "## 2: Épsilon"
   ]
  },
  {
   "cell_type": "code",
   "execution_count": 2,
   "metadata": {},
   "outputs": [
    {
     "data": {
      "text/plain": [
       "(-57, -50)"
      ]
     },
     "execution_count": 2,
     "metadata": {},
     "output_type": "execute_result"
    }
   ],
   "source": [
    "a = 1 + 2^(-53); b = a - 1\n",
    "c = 1 + 2^(-52); d = c - 1\n",
    "\n",
    "b, d"
   ]
  },
  {
   "cell_type": "markdown",
   "metadata": {},
   "source": [
    "No es el resultado esperado, espero que **b** sea un número que supere el épsilon y por lo tanto pase a ser positivo (supongo), puede ser que la máquina tenga un épsilon más alto?"
   ]
  },
  {
   "cell_type": "markdown",
   "metadata": {},
   "source": [
    "## 3: Overflow y Underflow\n",
    "\n",
    "Obtener el mayor y menor número positivo en punto flotante (overflow y underflow). Para obtener el mayor número de overflow escribir un ciclo que vaya calculando las sucesivas potencias de 2 y que finalice cuando se produce overflow. Se recomienda utilizar el comando isinf (importar la librería numpy) para detectar cuando se produce el overflow (escribir help(np.isinf) para obtener información sobre este comando). Otra instrucción que puede resultar útil es break para interrumpir el ciclo cuando se produce el overflow. El número de underflow se puede obtener dividiendo por 2 repetidamente hasta obtener un número indistinguible del cero en punto flotante."
   ]
  },
  {
   "cell_type": "code",
   "execution_count": 3,
   "metadata": {},
   "outputs": [
    {
     "name": "stdout",
     "output_type": "stream",
     "text": [
      "overflow is: 8.98846567431158e+307\n",
      "underflow is: 5e-324\n"
     ]
    }
   ],
   "source": [
    "import numpy as np\n",
    "\n",
    "# overflow search\n",
    "\n",
    "overflow = 2.\n",
    "while not np.isinf(overflow*2.):\n",
    "    overflow *= 2.\n",
    "    \n",
    "print(f'overflow is: {overflow}')\n",
    "\n",
    "# underflow search\n",
    "\n",
    "underflow = 1\n",
    "while not underflow/2==0:\n",
    "    underflow /= 2\n",
    "    \n",
    "print(f'underflow is: {underflow}')"
   ]
  },
  {
   "cell_type": "code",
   "execution_count": 4,
   "metadata": {},
   "outputs": [
    {
     "data": {
      "text/plain": [
       "sys.float_info(max=1.7976931348623157e+308, max_exp=1024, max_10_exp=308, min=2.2250738585072014e-308, min_exp=-1021, min_10_exp=-307, dig=15, mant_dig=53, epsilon=2.220446049250313e-16, radix=2, rounds=1)"
      ]
     },
     "execution_count": 4,
     "metadata": {},
     "output_type": "execute_result"
    }
   ],
   "source": [
    "# check\n",
    "\n",
    "import sys\n",
    "sys.float_info"
   ]
  },
  {
   "cell_type": "markdown",
   "metadata": {},
   "source": [
    "Close enough . . ."
   ]
  },
  {
   "cell_type": "markdown",
   "metadata": {},
   "source": [
    "## 4: Aproximaciones\n",
    "\n",
    "Escribir la siguiente secuencia de comandos en un archivo con extensión .py y ejecutarlo.\n",
    "```python\n",
    "x=0\n",
    "while x != 10:\n",
    "    x = x + 0.1\n",
    "```\n",
    "¿Qué ocurre si en lugar de incrementarse la variable en 0.1 lo hace en 0.5? ¿Por qué?"
   ]
  },
  {
   "cell_type": "code",
   "execution_count": 5,
   "metadata": {},
   "outputs": [
    {
     "data": {
      "text/plain": [
       "(10.09999999999998, 10.0)"
      ]
     },
     "execution_count": 5,
     "metadata": {},
     "output_type": "execute_result"
    }
   ],
   "source": [
    "# function \n",
    "\n",
    "def sum_to_ten(step):\n",
    "    x = 0\n",
    "    while x != 10:\n",
    "        x = x + step\n",
    "        if x > 10:\n",
    "            break\n",
    "    return x\n",
    "        \n",
    "\n",
    "x_by_0_1 = sum_to_ten(step=0.1)\n",
    "x_by_0_5 = sum_to_ten(step=0.5)\n",
    "\n",
    "x_by_0_1, x_by_0_5"
   ]
  },
  {
   "cell_type": "markdown",
   "metadata": {},
   "source": [
    "Como se puede ver en los resultados, in el break, incrementar por 0.1 hubiera resultado en un loop infinito, mientras que incrementando en 0.5 llegamos al resultado esperado.\n",
    "\n",
    "Esto se debe a la aritmetica de puntos flotantes, explicado en [este doc](https://docs.python.org/3.4/tutorial/floatingpoint.html#representation-error), sin importar la cantidad de digitos decimales estemos dispuestos a escribir, nunca vamos a poder aproximar exactamente la fracción 1/10.\n",
    "\n",
    "Una solución sería usar la función `round` de python, con un aproximación de 10 dígitos, veamos un ejemplo donde para sin el `break`:"
   ]
  },
  {
   "cell_type": "code",
   "execution_count": 6,
   "metadata": {},
   "outputs": [
    {
     "data": {
      "text/plain": [
       "9.99999999999998"
      ]
     },
     "execution_count": 6,
     "metadata": {},
     "output_type": "execute_result"
    }
   ],
   "source": [
    "x = 0\n",
    "while round(x, 10) != 10:\n",
    "    x = x + 0.1\n",
    "\n",
    "x"
   ]
  },
  {
   "cell_type": "markdown",
   "metadata": {},
   "source": [
    "## 5: Factorial\n",
    "\n",
    "- Escriba un programa que calcule el factorial de 6.\n",
    "- Importe la librería math, ¿qué función puede utilizar para calcular el punto anterior? \n",
    "- Escriba una función que calcule el factorial de un número n dado."
   ]
  },
  {
   "cell_type": "code",
   "execution_count": 7,
   "metadata": {},
   "outputs": [
    {
     "data": {
      "text/plain": [
       "720"
      ]
     },
     "execution_count": 7,
     "metadata": {},
     "output_type": "execute_result"
    }
   ],
   "source": [
    "# factorial de 6\n",
    "\n",
    "fact_6 = np.prod(range(1, 7))\n",
    "fact_6"
   ]
  },
  {
   "cell_type": "code",
   "execution_count": 8,
   "metadata": {},
   "outputs": [
    {
     "data": {
      "text/plain": [
       "720"
      ]
     },
     "execution_count": 8,
     "metadata": {},
     "output_type": "execute_result"
    }
   ],
   "source": [
    "# factorial using math\n",
    "import math\n",
    "\n",
    "fact_6 = math.factorial(6)\n",
    "fact_6"
   ]
  },
  {
   "cell_type": "code",
   "execution_count": 9,
   "metadata": {},
   "outputs": [
    {
     "data": {
      "text/plain": [
       "(720, 120, 2)"
      ]
     },
     "execution_count": 9,
     "metadata": {},
     "output_type": "execute_result"
    }
   ],
   "source": [
    "# generic func\n",
    "\n",
    "def fact(n):\n",
    "    return np.prod(range(1, n+1))\n",
    "\n",
    "fact(6), fact(5), fact(2)"
   ]
  },
  {
   "cell_type": "markdown",
   "metadata": {},
   "source": [
    "## 6: Input\n",
    "\n",
    "Escribir un programa que pida dos números reales e imprima en la pantalla el mayor de ellos. El programa debe indicar si los números son iguales."
   ]
  },
  {
   "cell_type": "code",
   "execution_count": 10,
   "metadata": {},
   "outputs": [
    {
     "name": "stdin",
     "output_type": "stream",
     "text": [
      "Escriba el primer número: 23\n",
      "Escriba el segundo número: 45\n"
     ]
    },
    {
     "name": "stdout",
     "output_type": "stream",
     "text": [
      "45.0 > 23.0\n"
     ]
    }
   ],
   "source": [
    "a = float(input('Escriba el primer número:'))\n",
    "b = float(input('Escriba el segundo número:'))\n",
    "\n",
    "if a == b:\n",
    "    print('Los números son iguales')\n",
    "elif a > b:\n",
    "    print(f'{a} > {b}')\n",
    "elif b > a:\n",
    "    print(f'{b} > {a}')"
   ]
  },
  {
   "cell_type": "markdown",
   "metadata": {},
   "source": [
    "## 7: Potencias\n",
    "\n",
    "Escribir una función que calcule la potencia enésima de un número, es decir que devuelva $x^n$ para x real y n entero. Realice un programa que utilice la función e imprima en pantalla las primeras 5 potencias naturales de un número ingresado."
   ]
  },
  {
   "cell_type": "code",
   "execution_count": 11,
   "metadata": {},
   "outputs": [],
   "source": [
    "def pot(x, n):\n",
    "    return x**n"
   ]
  },
  {
   "cell_type": "code",
   "execution_count": 12,
   "metadata": {},
   "outputs": [
    {
     "name": "stdin",
     "output_type": "stream",
     "text": [
      "Ingrese un número 23\n"
     ]
    },
    {
     "name": "stdout",
     "output_type": "stream",
     "text": [
      "potencia 1: 23.0\n",
      "potencia 2: 529.0\n",
      "potencia 3: 12167.0\n",
      "potencia 4: 279841.0\n",
      "potencia 5: 6436343.0\n"
     ]
    }
   ],
   "source": [
    "x = float(input('Ingrese un número'))\n",
    "\n",
    "for i in range(1, 6):\n",
    "    print(f'potencia {i}: {pot(x, i)}')"
   ]
  },
  {
   "cell_type": "markdown",
   "metadata": {},
   "source": [
    "## 8: Resolución de ecuaciones con Baskhara\n",
    "\n",
    "Escribir dos funciones en Python para la resoluci ́on de ecuaciones de segundo grado $a^2 + bx + c = 0$.\n",
    "\n",
    "Una de ellas, que llamaremos de mala, implementando la tradicional f ́ormula de Baskhara y la otra, que llamaremos de buena, usando una manera eficiente para evitar cancelaci ́on de d ́ıgitos significativos."
   ]
  },
  {
   "cell_type": "code",
   "execution_count": 13,
   "metadata": {},
   "outputs": [
    {
     "data": {
      "text/plain": [
       "((1.0, 0.0), (2.0, -2.0))"
      ]
     },
     "execution_count": 13,
     "metadata": {},
     "output_type": "execute_result"
    }
   ],
   "source": [
    "import math\n",
    "\n",
    "def mala(a, b, c):\n",
    "    x_1 = (-b + math.sqrt(b**2 - (4*a*c)))/(2*a)\n",
    "    x_2 = (-b - math.sqrt(b**2 - (4*a*c)))/(2*a)\n",
    "    return x_1, x_2\n",
    "\n",
    "mala(1, -1, 0), mala(1, 0, -4)"
   ]
  },
  {
   "cell_type": "code",
   "execution_count": 14,
   "metadata": {},
   "outputs": [
    {
     "name": "stdout",
     "output_type": "stream",
     "text": [
      "No real solution available\n"
     ]
    },
    {
     "data": {
      "text/plain": [
       "((1.0, 0.0), (-2.0, 2.0), None)"
      ]
     },
     "execution_count": 14,
     "metadata": {},
     "output_type": "execute_result"
    }
   ],
   "source": [
    "def buena(a, b, c):\n",
    "    # avoid math errors\n",
    "    if (b ** 2 - 4 * a * c) < 0:\n",
    "        print('No real solution available')\n",
    "        return None\n",
    "    \n",
    "    # get the farest root from zero\n",
    "    if b >= 0:\n",
    "        x_1 = (-b - math.sqrt(b ** 2 - 4 * a * c)) / (2 * a)\n",
    "    else:\n",
    "        x_1 = (-b + math.sqrt(b ** 2 - 4 * a * c)) / (2 * a)\n",
    "\n",
    "    # avoid division by zero\n",
    "    # if one of the roots is zero,\n",
    "    # let's assume they both are\n",
    "    if x_1 == 0: return 0, 0\n",
    "\n",
    "    x_2 = c / (a * x_1)\n",
    "    return x_1, x_2\n",
    "\n",
    "buena(1, -1, 0), buena(1, 0, -4), buena(1, 1, 1)"
   ]
  },
  {
   "cell_type": "markdown",
   "metadata": {},
   "source": [
    "## 9: Algoritmo de Horner\n",
    "\n",
    "Escribir una funci ́on que implemente el algoritmo de Horner (horn) para la evaluaci ́on de\n",
    "polinomios. La sintaxis de llamada a la rutina deber ́ıa ser:\n",
    "```\n",
    "p = horn(coefs,x)\n",
    "```\n",
    "donde p es el valor del polinomio, coefs es un vector con los coeficientes del polinomio, de mayor a menor grado y x es el valor de la variable independiente. Es decir que si, por ejemplo, hacemos:\n",
    "```\n",
    "p = horn([1 -5 6 2], 2)\n",
    "```\n",
    "entonces la variable p almacenara ́ el valor p(2) donde p(x) = x3 − 5x2 + 6x + 2."
   ]
  },
  {
   "cell_type": "code",
   "execution_count": 15,
   "metadata": {},
   "outputs": [
    {
     "data": {
      "text/plain": [
       "9"
      ]
     },
     "execution_count": 15,
     "metadata": {},
     "output_type": "execute_result"
    }
   ],
   "source": [
    "def horn(coefs, x):\n",
    "    p = coefs[0]\n",
    "    for c in coefs[1:]:\n",
    "        p = (p * x) + c\n",
    "    return p\n",
    "\n",
    "horn([2, 0, 1], 2)"
   ]
  }
 ],
 "metadata": {
  "kernelspec": {
   "display_name": "Python 3",
   "language": "python",
   "name": "python3"
  },
  "language_info": {
   "codemirror_mode": {
    "name": "ipython",
    "version": 3
   },
   "file_extension": ".py",
   "mimetype": "text/x-python",
   "name": "python",
   "nbconvert_exporter": "python",
   "pygments_lexer": "ipython3",
   "version": "3.7.5"
  }
 },
 "nbformat": 4,
 "nbformat_minor": 4
}
