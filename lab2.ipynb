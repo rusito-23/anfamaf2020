{
 "cells": [
  {
   "cell_type": "markdown",
   "metadata": {},
   "source": [
    "# Lab2"
   ]
  },
  {
   "cell_type": "markdown",
   "metadata": {},
   "source": [
    "## ej1\n",
    "\n",
    "Escribir una función que implemente el método de bisección para hallar una raíz de $ f : R 􏰀→ R $ en el intervalo [a,b]. La función debe llamarse “rbisec”, y tener como entrada los argumentos `(fun,I,err,mit)`, donde fun es una función que dado x retorna f(x), I= [a,b] es un intervalo en R, err es la tolerancia deseada del error y mit es el número máximo de iteraciones permitidas. El algoritmo debe finalizar en la k-esima iteración si |f(xk)| < err o si k ≥ mit. Los argumentos de salida deben ser (hx,hf) donde hx= [x1, . . . , xN ] es una lista que representa el historial de puntos medios y hf= [f(x1),...,f(xN)] el historial de los respectivos valores funcionales."
   ]
  },
  {
   "cell_type": "code",
   "execution_count": 144,
   "metadata": {},
   "outputs": [],
   "source": [
    "def rbisec(fun, I, err, mit):\n",
    "    a, b = I\n",
    "    hm, hf = [], []\n",
    "     \n",
    "    for i in range(1, mit+1):\n",
    "        # get midpoint\n",
    "        m = (a + b) / 2\n",
    "        \n",
    "        # save partial results\n",
    "        hm.append(m), hf.append(fun(m))\n",
    "        \n",
    "        # check results using the abs error\n",
    "        if (abs(fun(m)) < abs(err)):\n",
    "            print(f'Found solution on iteration {i}')\n",
    "            return hm, hf\n",
    "        \n",
    "        # find the new interval\n",
    "        if fun(a)*fun(m) < 0:\n",
    "            b = m\n",
    "        elif fun(b)*fun(m) < 0:\n",
    "            a = m\n",
    "        else:\n",
    "            print(f'Bisection failed on iteration {i}')\n",
    "            return None, None\n",
    "    \n",
    "    print('Did not found solution')\n",
    "    return hm, hf"
   ]
  },
  {
   "cell_type": "code",
   "execution_count": 145,
   "metadata": {},
   "outputs": [
    {
     "name": "stdout",
     "output_type": "stream",
     "text": [
      "Found solution on iteration 1\n"
     ]
    },
    {
     "data": {
      "text/plain": [
       "(0.0, 0)"
      ]
     },
     "execution_count": 145,
     "metadata": {},
     "output_type": "execute_result"
    }
   ],
   "source": [
    "f = lambda x: 0\n",
    "hx, hf = rbisec(f, [-100, 100], 0.1, 10)\n",
    "\n",
    "hx[-1], hf[-1]"
   ]
  },
  {
   "cell_type": "code",
   "execution_count": 146,
   "metadata": {},
   "outputs": [
    {
     "name": "stdout",
     "output_type": "stream",
     "text": [
      "Found solution on iteration 3\n"
     ]
    },
    {
     "data": {
      "text/plain": [
       "(1.625, 0.015625)"
      ]
     },
     "execution_count": 146,
     "metadata": {},
     "output_type": "execute_result"
    }
   ],
   "source": [
    "f = lambda x:  x**2 - x - 1\n",
    "hx, hf = rbisec(f, [1, 2], 1/(2^(-26)), 25)\n",
    "\n",
    "hx[-1], hf[-1]"
   ]
  },
  {
   "cell_type": "markdown",
   "metadata": {},
   "source": [
    "## ej2\n",
    "### a)\n",
    "Encontrar la menor solución positiva de la ecuación $ 2x = tan(x) $ con un error menor a 10−5 en menos de 100 iteraciones.\n",
    "\n",
    "¿Cuántas iteraciones son necesarias cuando comenzamos con el intervalo [0.8, 1.4]?\n",
    "\n",
    "Usar la siguiente sintaxis:\n",
    "```python\n",
    "hx, hy = rbisec(fun_lab2ej2a, [0.8, 1.4], 1e-5, 100)\n",
    "```"
   ]
  },
  {
   "cell_type": "code",
   "execution_count": 149,
   "metadata": {},
   "outputs": [
    {
     "name": "stdout",
     "output_type": "stream",
     "text": [
      "Bisection failed on iteration 1\n"
     ]
    }
   ],
   "source": [
    "fun_lab2ej2a = math.tan\n",
    "hx, hy = rbisec(fun_lab2ej2a, [0.8, 1.4], 1e-5, 100)"
   ]
  },
  {
   "cell_type": "markdown",
   "metadata": {},
   "source": [
    "El algoritmo fue preparado para fallar en caso de que no se pudiera encontrar una solución a la ecuación, la función $tan$ tiene raices en:\n",
    "\n",
    "$$ x = \\pi * \\mathcal{n}, \\mathcal{n} \\in \\mathbb{Z} $$\n",
    "\n",
    "en este caso, no existen soluciones dentro del intervalo dado, ya que:\n",
    "\n",
    "$$ 0\\pi < 0.8 \\land 1.4 < \\pi $$\n",
    "\n",
    "y por lo tanto, el algoritmo falla con la condición:\n",
    "\n",
    "$$ (f(a)*f(m) > 0) \\land (f(b)*f(m) > 0) $$"
   ]
  },
  {
   "cell_type": "markdown",
   "metadata": {},
   "source": [
    "### b)\n",
    "\n",
    "Encontrar una aproximación a $ \\sqrt{3} $ con un error menor a $ 10^{-5} $."
   ]
  },
  {
   "cell_type": "code",
   "execution_count": 156,
   "metadata": {},
   "outputs": [
    {
     "name": "stdout",
     "output_type": "stream",
     "text": [
      "Found solution on iteration 18\n"
     ]
    },
    {
     "data": {
      "text/plain": [
       "(1.7320518493652344, 0.015625)"
      ]
     },
     "execution_count": 156,
     "metadata": {},
     "output_type": "execute_result"
    }
   ],
   "source": [
    "fun_lab2ej2b = lambda x: x**2 - 3\n",
    "\n",
    "hx, hy = rbisec(fun_lab2ej2b, [0, 3], 10**(-5), 20)\n",
    "hx[-1], hf[-1]"
   ]
  },
  {
   "cell_type": "code",
   "execution_count": 157,
   "metadata": {},
   "outputs": [
    {
     "data": {
      "text/plain": [
       "1.7320508075688772"
      ]
     },
     "execution_count": 157,
     "metadata": {},
     "output_type": "execute_result"
    }
   ],
   "source": [
    "math.sqrt(3)"
   ]
  },
  {
   "cell_type": "markdown",
   "metadata": {},
   "source": [
    "Casi . . ."
   ]
  },
  {
   "cell_type": "markdown",
   "metadata": {},
   "source": [
    "### c)\n",
    "\n",
    "Graficar conjuntamente $ f $ y los pares $ (xk,f(xk)) $ para las dos funciones anteriores y con al menos dos intervalos iniciales distintos para cada una."
   ]
  },
  {
   "cell_type": "code",
   "execution_count": 200,
   "metadata": {},
   "outputs": [
    {
     "name": "stdout",
     "output_type": "stream",
     "text": [
      "Found solution on iteration 11\n"
     ]
    },
    {
     "data": {
      "image/png": "[encoded data removed]",
      "text/plain": [
       "<Figure size 720x360 with 2 Axes>"
      ]
     },
     "metadata": {
      "needs_background": "light"
     },
     "output_type": "display_data"
    }
   ],
   "source": [
    "# plot tan\n",
    "import matplotlib.pyplot as plt\n",
    "import numpy as np\n",
    "\n",
    "# define our intervals\n",
    "I_0 = (2, 4)\n",
    "I_1 = (5, 7)\n",
    "\n",
    "# create the samples between this intervals\n",
    "I_0_x = np.linspace(*I_0, 1000)\n",
    "I_1_x = np.linspace(*I_1, 1000)\n",
    "\n",
    "# get the real function value between this intervals\n",
    "I_0_r = np.array([fun_lab2ej2a(x) for x in I_0_x])\n",
    "I_1_r = np.array([fun_lab2ej2a(x) for x in I_1_x])\n",
    "\n",
    "# get our own results using bisec\n",
    "I_0_hx, I_0_hf = rbisec(fun_lab2ej2a, I_0, 10**(-5), 100)\n",
    "\n",
    "# axes setup helper\n",
    "def set_ax_zero(a):\n",
    "    a.spines['left'].set_position('center')\n",
    "    a.spines['bottom'].set_position('zero')\n",
    "    a.spines['right'].set_color('none')\n",
    "    a.spines['top'].set_color('none')\n",
    "    a.xaxis.set_ticks_position('bottom')\n",
    "    a.yaxis.set_ticks_position('left')\n",
    "\n",
    "# create matplotlib fig and axes\n",
    "f, ax = plt.subplots(1, 2, figsize=(10, 5))\n",
    "\n",
    "# plot the real results\n",
    "ax[0].plot(I_0_x, I_0_r)\n",
    "ax[0].plot(I_0_hx, I_0_hf)\n",
    "ax[0].no\n",
    "ax[0].set_title(f'I0: {I_0}')\n",
    "\n",
    "ax[1].plot(I_1_x, I_1_r)\n",
    "ax[1].set_title(f'I1: {I_1}')\n",
    "\n",
    "# setup all axes\n",
    "set_ax_zero(ax[0])\n",
    "set_ax_zero(ax[1])\n",
    "\n",
    "plt.show()"
   ]
  },
  {
   "cell_type": "code",
   "execution_count": null,
   "metadata": {},
   "outputs": [],
   "source": []
  }
 ],
 "metadata": {
  "kernelspec": {
   "display_name": "Python 3",
   "language": "python",
   "name": "python3"
  },
  "language_info": {
   "codemirror_mode": {
    "name": "ipython",
    "version": 3
   },
   "file_extension": ".py",
   "mimetype": "text/x-python",
   "name": "python",
   "nbconvert_exporter": "python",
   "pygments_lexer": "ipython3",
   "version": "3.7.5"
  }
 },
 "nbformat": 4,
 "nbformat_minor": 4
}
