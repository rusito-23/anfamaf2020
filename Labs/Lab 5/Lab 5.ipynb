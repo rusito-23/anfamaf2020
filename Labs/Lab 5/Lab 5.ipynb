{
 "cells": [
  {
   "cell_type": "markdown",
   "metadata": {},
   "source": [
    "# Lab 5: Integración numérica"
   ]
  },
  {
   "cell_type": "code",
   "execution_count": 13,
   "metadata": {},
   "outputs": [],
   "source": [
    "import numpy as np\n",
    "import matplotlib.pyplot as plt\n",
    "import math\n",
    "import scipy\n",
    "from scipy import integrate\n",
    "import functools"
   ]
  },
  {
   "cell_type": "markdown",
   "metadata": {},
   "source": [
    "## 2) \n",
    "\n",
    "Programar una función en python que integre numericamente usando las reglas compuestas del trapecio, punto medio y Simpson, nombrarla `intenumcomp`.\n",
    "\n",
    "Deberá tomar como parámetros: `fun`, `a`, `b`, `N`, `regla`. Donde fun es la función a evaluar, (a,b) el intervalo, N la cantidad de iteraciones y regla un string indicando el método, que puede ser uno de: `trapecio`, `pm` o `simpson`."
   ]
  },
  {
   "cell_type": "markdown",
   "metadata": {},
   "source": [
    "### a) Regla compuesta del Trapecio\n",
    "\n",
    "Esta regla esta dada por:\n",
    "\n",
    "$$ \\int_a^b {f(x) dx} \\approx { (b - a)\\over{2} } [ f(a) + f(b) ] $$\n",
    "\n",
    "Al hacerla compuesta, lo que hacemos determinar N subintervalos (contenidos en el intervalo dado) y aplicar la regla sobre este intervalo, finalmente se suman todos los resultados y se obtiene la una mejor aproximación sobre el intervalo original dado."
   ]
  },
  {
   "cell_type": "code",
   "execution_count": 109,
   "metadata": {},
   "outputs": [],
   "source": [
    "def trapecio(f, a, b):\n",
    "    \"\"\" Regla del Trapecio \"\"\"\n",
    "    s = ((b - a) / 2.0) * (f(a) + f(b))\n",
    "    return s\n",
    "\n",
    "def trapecio_compuesta(f, a, b, N):\n",
    "    \"\"\" Regla del Trapecio Compuesta \"\"\"\n",
    "    \n",
    "    # subintervalos\n",
    "    X = np.linspace(a, b, N + 1)\n",
    "    sub_intervals = zip(X[:-1], X[1:])\n",
    "    \n",
    "    # aplicar regla en todos los subintervalos\n",
    "    s = 0.0\n",
    "    for a, b in sub_intervals:\n",
    "        s += trapecio(f, a, b)\n",
    "    \n",
    "    return s"
   ]
  },
  {
   "cell_type": "markdown",
   "metadata": {},
   "source": [
    "### b) Regla de Simpson\n",
    "\n",
    "Dada por:\n",
    "\n",
    "$$ \\int_a^b f(x) dx \\approx {{(a - b) / 2}\\over{3}} [ f(a) + 4 f({a + b\\over 2}) + f(b) ] $$\n",
    "\n",
    "Sin embargo, cuando se utiliza la regla de Simpson compuesta, se debe utilizar un algoritmo distinto al utilizado en el ejercicio anterior:"
   ]
  },
  {
   "cell_type": "code",
   "execution_count": 110,
   "metadata": {},
   "outputs": [],
   "source": [
    "def simpson(f, a, b):\n",
    "    \"\"\" Regla de Simpson \"\"\"\n",
    "    h = (b - a) / 2.0\n",
    "    c = (a + b) / 2.0\n",
    "    return (f(a) + f(b) + 4 * f(c)) * h / 3.0\n",
    "\n",
    "def simpson_compuesta(f, a, b, N):\n",
    "    \"\"\" Regla de Simpson Compuesta \"\"\"\n",
    "\n",
    "    assert N%2 == 0, 'se requiere que N sea par'\n",
    "    \n",
    "    # definir valores iniciales\n",
    "    h = (b - a) / N\n",
    "    sx0 = f(a) + f(b)\n",
    "    sx1, sx2 = 0, 0\n",
    "    x = a\n",
    "    \n",
    "    # recorrer subintervalos\n",
    "    for j in range(1, N):\n",
    "        x += h\n",
    "        \n",
    "        if j%2 == 0:\n",
    "            sx2 += f(x)\n",
    "        else:\n",
    "            sx1 += f(x)\n",
    "        \n",
    "    # calcular resultado final\n",
    "    sx = (sx0 + 2 * sx2 + 4 * sx1) * (h / 3)\n",
    "    return sx"
   ]
  },
  {
   "cell_type": "markdown",
   "metadata": {},
   "source": [
    "### c) Regla del punto medio\n",
    "\n",
    "Dada por:\n",
    "\n",
    "$$ \\int_a^b f(x) dx \\approx f ({a + b \\over 2}) (b - a) $$"
   ]
  },
  {
   "cell_type": "code",
   "execution_count": 111,
   "metadata": {},
   "outputs": [],
   "source": [
    "def pm(f, a, b):\n",
    "    \"\"\" Regla del Punto Medio \"\"\"\n",
    "    c = (a + b) / 2.0\n",
    "    return f(c) * (b - a)\n",
    "\n",
    "def pm_compuesta(f, a, b, N):\n",
    "    \"\"\" Regla del Punto Medio Compuesta \"\"\"\n",
    "    # subintervalos\n",
    "    X = np.linspace(a, b, N + 1)\n",
    "    sub_intervals = zip(X[:-1], X[1:])\n",
    "    \n",
    "    # aplicar regla en todos los subintervalos\n",
    "    s = 0.0\n",
    "    for a, b in sub_intervals:\n",
    "        s += pm(f, a, b)\n",
    "    \n",
    "    return s"
   ]
  },
  {
   "cell_type": "markdown",
   "metadata": {},
   "source": [
    "### c)\n",
    "\n",
    "Realizamos la función que toma el parámetro nombre del método:"
   ]
  },
  {
   "cell_type": "code",
   "execution_count": 112,
   "metadata": {},
   "outputs": [],
   "source": [
    "def intenumcomp(fun, a, b, N, regla):\n",
    "    \"\"\" \n",
    "    aproximar integral de fun en un intervalo a, b dada el nombre de la regla\n",
    "    usando la suma de las aproximaciones de cada subintervalo.\n",
    "    \"\"\"\n",
    "    \n",
    "    reglas = {\n",
    "        'trapecio': trapecio_compuesta,\n",
    "        'simpson': simpson_compuesta,\n",
    "        'pm': pm_compuesta\n",
    "    }\n",
    "    \n",
    "    assert regla in reglas.keys(), 'No existe la regla'\n",
    "\n",
    "    s = reglas[regla](fun, a, b, N)\n",
    "\n",
    "    return s"
   ]
  },
  {
   "cell_type": "markdown",
   "metadata": {},
   "source": [
    "Probamos la función"
   ]
  },
  {
   "cell_type": "code",
   "execution_count": 113,
   "metadata": {},
   "outputs": [
    {
     "name": "stdout",
     "output_type": "stream",
     "text": [
      "Resultado para trapecio : 0.693771403175428\n",
      "Resultado para simpson : 0.6931502306889302\n",
      "Resultado para pm : 0.6928353604099601\n"
     ]
    }
   ],
   "source": [
    "for r in ['trapecio', 'simpson', 'pm']:\n",
    "    s = intenumcomp(lambda x: 1/x, 1, 2, 10, r)\n",
    "    print(f'Resultado para {r} : {s}')"
   ]
  },
  {
   "cell_type": "markdown",
   "metadata": {},
   "source": [
    "## 2)\n",
    "\n",
    "Mostrar los errores absolutos de integrar: \n",
    "\n",
    "$$ \\int_0^1 e^{-x} dx $$\n",
    "\n",
    "Usando 4, 10 y 20 subintervalos para cada una de las 3 reglas compuestas el ejercicio anterior.\n",
    "\n",
    "Primero, comenzemos por entender cuáles son las funciones de error para cada uno de los métodos mencionados:\n",
    "\n",
    "#### Trapecio\n",
    "\n",
    "$$ - { (b - a) \\over 12 } h^2 f''(\\mu) $$\n",
    "\n",
    "#### Simpson\n",
    "\n",
    "$$ - { (b - a) \\over 180 } h^4 f^{(4)} (\\mu)  $$\n",
    "\n",
    "#### Punto medio\n",
    "\n",
    "$$ {(b - a) \\over 6} h^2 f''(\\mu) $$\n",
    "\n",
    "Para poder escribir estos errores, comenzaremos por dar las derivadas 2das y 4tas de la función a aproximar. Estos son:\n",
    "\n",
    "$ f''(x) = e^{-x} $ y $ f^{(4)} = e^{-x} $\n",
    "\n",
    "Vemos que para el intervalo dado, nuestras derivadas siempre van a cumplir:\n",
    "\n",
    "$ f''(x) \\leq 1 $ y $ f^{(4)} \\leq 1  $\n",
    "\n",
    "Luego obviamos la parte de las funciones de error que utilizan el $ \\mu $ calculando las derivadas y utilizamos únicamente el resto la función.\n",
    "\n",
    "Por otro lado, vemos que para cada caso siempre vamos a tener el mismo $ h = { (b - a) \\over n }$ Luego simplemente escribimos un algoritmo para considerar todos los casos:"
   ]
  },
  {
   "cell_type": "code",
   "execution_count": 126,
   "metadata": {},
   "outputs": [
    {
     "name": "stdout",
     "output_type": "stream",
     "text": [
      "\n",
      "Usando N = 4.0: \n",
      "    Error Regla del Trapecio: -0.005208333333333333\n",
      "    Error Regla de Simpson: -2.170138888888889e-05\n",
      "    Error Regla de Punto Medio: 0.010416666666666666\n",
      "    \n",
      "\n",
      "Usando N = 10.0: \n",
      "    Error Regla del Trapecio: -0.0008333333333333335\n",
      "    Error Regla de Simpson: -5.555555555555557e-07\n",
      "    Error Regla de Punto Medio: 0.001666666666666667\n",
      "    \n",
      "\n",
      "Usando N = 20.0: \n",
      "    Error Regla del Trapecio: -0.00020833333333333337\n",
      "    Error Regla de Simpson: -3.472222222222223e-08\n",
      "    Error Regla de Punto Medio: 0.00041666666666666675\n",
      "    \n"
     ]
    }
   ],
   "source": [
    "\n",
    "for n in [4.0, 10.0, 20.0]: \n",
    "    # h = (b - a) / n\n",
    "    h = 1.0 / n\n",
    "    \n",
    "    # error de la regla del trapecio\n",
    "    err_trap = - (1 / 12) * pow(h, 2)\n",
    "    \n",
    "    # error de la regla de simpson\n",
    "    err_simp = - (1 / 180) * pow(h, 4)\n",
    "    \n",
    "    # error de la regla del punto medio\n",
    "    err_pm = (1 / 6) * pow(h, 2)\n",
    "    \n",
    "    print(f'''\n",
    "Usando N = {n}: \n",
    "    Error Regla del Trapecio: {err_trap}\n",
    "    Error Regla de Simpson: {err_simp}\n",
    "    Error Regla de Punto Medio: {err_pm}\n",
    "    ''')"
   ]
  },
  {
   "cell_type": "markdown",
   "metadata": {},
   "source": [
    "## 3)\n",
    "\n",
    "Escribir la función senint, que encuentre, usando la regla del trapecio la aproximación numérica de:\n",
    "\n",
    "$$ \\int_0^{x_i} cos(t) dt $$\n",
    "\n",
    "la cantidad $ N_i $ de subintervalos debe ser escogida de forma que la longitud de los subintervalos sea menor o igual a 0.1.\n",
    "\n",
    "Finalmente, graficar con pasos de 0.5 para $ x = 0,\\dots,2\\pi $ la función sin y senint simultáneamente."
   ]
  },
  {
   "cell_type": "code",
   "execution_count": 127,
   "metadata": {},
   "outputs": [],
   "source": [
    "def senint(x):\n",
    "    # definir la función sobre\n",
    "    # la regla\n",
    "    fun = math.cos\n",
    "    \n",
    "    # definir la cantidad de subintervalos a usar\n",
    "    N = math.ceil(x / 0.1)\n",
    "    \n",
    "    # definir los subintervalos\n",
    "    X = np.linspace(0, x, N + 1)\n",
    "    sub_intervals = zip(X[:-1], X[1:])\n",
    "    \n",
    "    # aproximar cada subintervalo\n",
    "    # y reducir usando suma\n",
    "    s = 0\n",
    "    for (a, b) in sub_intervals:\n",
    "        s += trapecio(fun, a, b)\n",
    "\n",
    "    return s"
   ]
  },
  {
   "cell_type": "code",
   "execution_count": 128,
   "metadata": {},
   "outputs": [
    {
     "data": {
      "text/plain": [
       "<matplotlib.legend.Legend at 0x1144d5990>"
      ]
     },
     "execution_count": 128,
     "metadata": {},
     "output_type": "execute_result"
    },
    {
     "data": {
      "image/png": "[encoded data removed]",
      "text/plain": [
       "<Figure size 432x288 with 1 Axes>"
      ]
     },
     "metadata": {
      "needs_background": "light"
     },
     "output_type": "display_data"
    }
   ],
   "source": [
    "# plotear ambos\n",
    "\n",
    "X = np.arange(0, 2*np.pi, 0.5)\n",
    "\n",
    "Y_sin = np.sin(X)\n",
    "Y_senint = [senint(x) for x in X]\n",
    "\n",
    "plt.plot(X, Y_sin, color='dodgerblue', label='sin(x)')\n",
    "plt.scatter(X, Y_senint, color='tomato', label='senint(x)')\n",
    "plt.legend()"
   ]
  },
  {
   "cell_type": "markdown",
   "metadata": {},
   "source": [
    "## 4)\n",
    "\n",
    "Usar la reglas compuestas del Trapecio y la de Simpson para calcular las siguientes integrales, con una tolerancia de error de $ 10^{-5} $:\n",
    "\n",
    "##### a) $ \\int_0^1 x e^{-x} dx $\n",
    "\n",
    "##### b) $ \\int_0^1 x \\sin(x) dx $\n",
    "\n",
    "##### c) $ \\int_0^1 (1 + x^2)^{3/2} dx $\n",
    "\n",
    "##### d) $ \\int_0^{\\pi / 2} { 1 \\over { \\sqrt { 1 - \\sin^2(t) / 2 } } } dt $\n",
    "\n",
    "Al usar las reglas del Trapecio y la de Simpson para calcular las integrales, tenemos un determinado error, dado por la cantidad de subintervalos que utilizamos. Estas fórmulas de error son las descriptas en el ejercicio anterior."
   ]
  },
  {
   "cell_type": "code",
   "execution_count": 1,
   "metadata": {},
   "outputs": [],
   "source": [
    "# TODO"
   ]
  },
  {
   "cell_type": "markdown",
   "metadata": {},
   "source": [
    "## 5)\n",
    "\n",
    "Calcular las siguientes integrales utilizando la regla del Trapecio y Simpson, haciendo uso de la librería `scipy` (ver módule integrate).\n",
    "\n",
    "##### a) $ I = \\int_{-\\infty}^{\\infty} { e^{-x^2} dx } $\n",
    "\n",
    "##### b) $ I = \\int_0^2  { x^2 \\log \\left\\langle x + \\sqrt { x^2 + 1 } \\right\\rangle dx } $"
   ]
  },
  {
   "cell_type": "code",
   "execution_count": 32,
   "metadata": {},
   "outputs": [
    {
     "data": {
      "text/plain": [
       "(1.7724538509055159, 1.7724538509055157, 1.7724538509055159)"
      ]
     },
     "execution_count": 32,
     "metadata": {},
     "output_type": "execute_result"
    }
   ],
   "source": [
    "# a)\n",
    "\n",
    "# function and interval\n",
    "\n",
    "f = lambda x: np.exp(-pow(x, 2))\n",
    "a, b = -np.inf, np.inf\n",
    "\n",
    "# build representative space\n",
    "\n",
    "x = np.linspace(-100, 100, 500)\n",
    "y = f(x)\n",
    "\n",
    "# compare methods with quad\n",
    "\n",
    "Is = integrate.simps(y, x)\n",
    "It = integrate.trapz(y, x)\n",
    "Iq = integrate.quad(f, a, b)[0]\n",
    "\n",
    "print(\n",
    "f'Regla de Simpson: {Is} \\n'\n",
    "f'Regla del trapecio: {It} \\n'\n",
    "f'Quad: {Iq}'\n",
    ")"
   ]
  },
  {
   "cell_type": "code",
   "execution_count": 44,
   "metadata": {},
   "outputs": [
    {
     "name": "stdout",
     "output_type": "stream",
     "text": [
      "Regla de Simpson: 3.1305683986984096 \n",
      "Regla del trapecio: 3.1305785082442594 \n",
      "Quad: 3.1305683832546523\n"
     ]
    }
   ],
   "source": [
    "# b)\n",
    "\n",
    "# function and interval\n",
    "\n",
    "f = lambda x: pow(x, 2) * np.log(x + np.sqrt(pow(x, 2) + 1))\n",
    "a, b = 0, 2\n",
    "\n",
    "# build representative space\n",
    "\n",
    "x = np.linspace(0, 2, 500)\n",
    "y = f(x)\n",
    "\n",
    "# compare methods with quad\n",
    "\n",
    "Is = integrate.simps(y, x)\n",
    "It = integrate.trapz(y, x)\n",
    "Iq = integrate.quad(f, a, b)[0]\n",
    "\n",
    "print(\n",
    "f'Regla de Simpson: {Is} \\n'\n",
    "f'Regla del trapecio: {It} \\n'\n",
    "f'Quad: {Iq}'\n",
    ")"
   ]
  }
 ],
 "metadata": {
  "kernelspec": {
   "display_name": "Python 3",
   "language": "python",
   "name": "python3"
  },
  "language_info": {
   "codemirror_mode": {
    "name": "ipython",
    "version": 3
   },
   "file_extension": ".py",
   "mimetype": "text/x-python",
   "name": "python",
   "nbconvert_exporter": "python",
   "pygments_lexer": "ipython3",
   "version": "3.7.5"
  }
 },
 "nbformat": 4,
 "nbformat_minor": 4
}
