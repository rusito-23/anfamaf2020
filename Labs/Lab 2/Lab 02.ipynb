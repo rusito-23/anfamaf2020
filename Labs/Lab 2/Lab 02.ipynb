{
 "cells": [
  {
   "cell_type": "markdown",
   "metadata": {},
   "source": [
    "# Lab2: Aproximación de raices\n",
    "- Método de bisección\n",
    "- Método de Newton\n",
    "- Método de punto fijo"
   ]
  },
  {
   "cell_type": "markdown",
   "metadata": {},
   "source": [
    "## 0: Método para mostrar los resultados\n",
    "\n",
    "Sabemos que los resultados de las distintas funciones que implementemos van a ser de la forma:\n",
    "hx, hf - donde hx son los distintos x y hf los distintos f(x)."
   ]
  },
  {
   "cell_type": "code",
   "execution_count": 1,
   "metadata": {},
   "outputs": [],
   "source": [
    "def show_results(hx, hf):\n",
    "    print(f'Algorithm ran {len(hx)} iterations')\n",
    "    print(f'Final results are x = {hx[-1]:.2f} and f(x) = {hf[-1]:.2f}')"
   ]
  },
  {
   "cell_type": "markdown",
   "metadata": {},
   "source": [
    "## 1: Método de bisección\n",
    "\n",
    "Escribir una función que implemente el método de bisección para hallar una raíz de $ f : \\mathbb R \\to \\mathbb R $ en el intervalo `[a,b]`. La función debe llamarse `rbisec`, y tener como entrada los argumentos `(fun,I,err,mit)`, donde fun es una función que dado $ x $ retorna $ f(x)$, $ I=[a,b] $ es un intervalo en $ \\mathbb R $, `err` es la tolerancia deseada del error y `mit` es el número máximo de iteraciones permitidas.\n",
    "\n",
    "El algoritmo debe finalizar en la k-esima iteración si \n",
    "\n",
    "$$ |f(xk)| < err $$\n",
    "<center>o si</center>\n",
    "$$ k \\geq mit $$\n",
    "\n",
    "Los argumentos de salida deben ser `(hx,hf)` donde $ hx=[x1, \\ldots ,xN] $ es una lista que representa el historial de puntos medios y $ hf= [f(x1), \\ldots ,f(xN)] $ el historial de los respectivos valores funcionales."
   ]
  },
  {
   "cell_type": "code",
   "execution_count": 2,
   "metadata": {},
   "outputs": [],
   "source": [
    "def rbisec(fun, I, err, mit):\n",
    "    a, b = I\n",
    "    hm, hf = [], []\n",
    "     \n",
    "    for _ in range(mit):\n",
    "        # get midpoint\n",
    "        m = (a + b) / 2\n",
    "        \n",
    "        # save partial results\n",
    "        hm.append(m); hf.append(fun(m))\n",
    "        \n",
    "        # check results using the abs error\n",
    "        if (abs(fun(m)) < abs(err)):\n",
    "            break\n",
    "        \n",
    "        # find the new interval\n",
    "        if fun(a)*fun(m) < 0:\n",
    "            b = m\n",
    "        elif fun(b)*fun(m) < 0:\n",
    "            a = m\n",
    "        elif fun(a)*fun(b) > 0:\n",
    "            break\n",
    "\n",
    "    return hm, hf"
   ]
  },
  {
   "cell_type": "markdown",
   "metadata": {},
   "source": [
    "Probamos con $ f(x) = 0 $"
   ]
  },
  {
   "cell_type": "code",
   "execution_count": 3,
   "metadata": {},
   "outputs": [
    {
     "name": "stdout",
     "output_type": "stream",
     "text": [
      "Algorithm ran 1 iterations\n",
      "Final results are x = 0.00 and f(x) = 0.00\n"
     ]
    }
   ],
   "source": [
    "hx, hf = rbisec(lambda x: 0, [-100, 100], 0.1, 10)\n",
    "\n",
    "show_results(hx, hf)"
   ]
  },
  {
   "cell_type": "markdown",
   "metadata": {},
   "source": [
    "Probamos con $ f(x) = x^2 - x + 1 $, con raices en $ \\sqrt{-1} y -(-1)^{2/3} $"
   ]
  },
  {
   "cell_type": "code",
   "execution_count": 4,
   "metadata": {},
   "outputs": [
    {
     "name": "stdout",
     "output_type": "stream",
     "text": [
      "Algorithm ran 26 iterations\n",
      "Final results are x = 1.62 and f(x) = 0.00\n"
     ]
    }
   ],
   "source": [
    "hx, hf = rbisec(lambda x: x**2 - x - 1, [1, 2], pow(2, -26), 30)\n",
    "\n",
    "show_results(hx, hf)"
   ]
  },
  {
   "cell_type": "markdown",
   "metadata": {},
   "source": [
    "## 2: Probar método de Bisección\n",
    "### a) $ 2x = tan(x) $\n",
    "Encontrar la menor solución positiva de la ecuación $ 2x = tan(x) $ con un error menor a 10−5 en menos de 100 iteraciones.\n",
    "\n",
    "¿Cuántas iteraciones son necesarias cuando comenzamos con el intervalo [0.8, 1.4]?"
   ]
  },
  {
   "cell_type": "code",
   "execution_count": 5,
   "metadata": {},
   "outputs": [
    {
     "name": "stdout",
     "output_type": "stream",
     "text": [
      "Algorithm ran 1 iterations\n",
      "Final results are x = 1.10 and f(x) = 1.08\n"
     ]
    }
   ],
   "source": [
    "import math\n",
    "\n",
    "fun_lab2ej2a = lambda x: math.tan(x) / 2*x\n",
    "hx, hf = rbisec(fun_lab2ej2a, [0.8, 1.4], 1e-5, 100)\n",
    "\n",
    "show_results(hx, hf)"
   ]
  },
  {
   "cell_type": "markdown",
   "metadata": {},
   "source": [
    "Sabemos que no hay soluciones en este intervalo ya que:\n",
    "\n",
    "$$ f(a)*f(b) > 0 $$\n",
    "\n",
    "Luego el algoritmo corre una sóla iteración y determina que no encuentra resultados."
   ]
  },
  {
   "cell_type": "markdown",
   "metadata": {},
   "source": [
    "### b) $ \\sqrt{3} $\n",
    "\n",
    "Encontrar una aproximación a $ \\sqrt{3} $ con un error menor a $ 10^{-5} $."
   ]
  },
  {
   "cell_type": "code",
   "execution_count": 6,
   "metadata": {},
   "outputs": [
    {
     "name": "stdout",
     "output_type": "stream",
     "text": [
      "Algorithm ran 18 iterations\n",
      "Final results are x = 1.73 and f(x) = 0.00\n"
     ]
    }
   ],
   "source": [
    "fun_lab2ej2b = lambda x: pow(x, 2) - 3\n",
    "hx, hf = rbisec(fun_lab2ej2b, [0, 3], pow(10, -5), 20)\n",
    "\n",
    "show_results(hx, hf)"
   ]
  },
  {
   "cell_type": "code",
   "execution_count": 7,
   "metadata": {},
   "outputs": [
    {
     "data": {
      "text/plain": [
       "(1.7320518493652344, 1.7320508075688772)"
      ]
     },
     "execution_count": 7,
     "metadata": {},
     "output_type": "execute_result"
    }
   ],
   "source": [
    "# comparemos el resultado\n",
    "hx[-1], math.sqrt(3)"
   ]
  },
  {
   "cell_type": "markdown",
   "metadata": {},
   "source": [
    "Casi . . ."
   ]
  },
  {
   "cell_type": "markdown",
   "metadata": {},
   "source": [
    "### c) Gráficos del método de bisección\n",
    "\n",
    "Graficar conjuntamente $ f $ y los pares $ (xk,f(xk)) $ para las dos funciones anteriores y con al menos dos intervalos iniciales distintos para cada una.\n"
   ]
  },
  {
   "cell_type": "code",
   "execution_count": 8,
   "metadata": {},
   "outputs": [],
   "source": [
    "# plot tan\n",
    "import matplotlib.pyplot as plt\n",
    "import numpy as np\n",
    "\n",
    "# function to plot\n",
    "def plot_bisec(fun, I, err, mit, figsize=5):\n",
    "    \"\"\"\n",
    "    Given a function, a list of intervals,\n",
    "    an error and the max iterations allowed,\n",
    "    for each interval given plots the\n",
    "    real values of the function in the interval\n",
    "    plots the used values by the bisection method\n",
    "    to find the function's zero.\n",
    "    Creates N plots where N is the amount of intervals.\n",
    "    \"\"\"\n",
    "\n",
    "    # create the samples\n",
    "    I_x = [np.linspace(*i, 1000) for i in I]\n",
    "    \n",
    "    # get the real values\n",
    "    I_r = [np.array([\n",
    "        fun(x) \n",
    "        for x in I_s\n",
    "    ]) for I_s in I_x]\n",
    "    \n",
    "    # get our own results using bisec\n",
    "    I_b = [\n",
    "        rbisec(fun, i, err, mit)\n",
    "        for i in I\n",
    "    ]\n",
    "    \n",
    "    # create the fig and axes\n",
    "    fig, ax = plt.subplots(1, len(I), figsize=(figsize*len(I), figsize))\n",
    "    \n",
    "    # for each ax\n",
    "    for i, (ii, x, r, (hx, hf)) in enumerate(zip(I, I_x, I_r, I_b)):\n",
    "        ax[i].set_title(f'I{i}: {ii}')\n",
    "        \n",
    "        # show the real results\n",
    "        ax[i].plot(x, r, label='f(x)')\n",
    "        \n",
    "        # show the results using bisec\n",
    "        bis_failed = not any(abs(f_x) < abs(err) for f_x in hf)\n",
    "        # check if the bisc failed (not close enough to zero)\n",
    "        if bis_failed:\n",
    "            centerx = sum(ii)/2\n",
    "            centery = ax[i].get_yticks()[3]\n",
    "            ax[i].text(centerx, centery, 'BISEC FAILED',\n",
    "                       horizontalalignment='center',\n",
    "                       verticalalignment='center',\n",
    "                       color='red')\n",
    "        else:\n",
    "            # bisec didn't failed, show results\n",
    "            ax[i].scatter(hx, hf, label='bisec(I)', color='orange')\n",
    "            # center the zero\n",
    "            ax[i].spines['left'].set_position('center')\n",
    "            ax[i].spines['bottom'].set_position('zero')\n",
    "            # show zero in another color\n",
    "            ax[i].scatter(hx[-1], hf[-1], label='zero', color='red')\n",
    "        \n",
    "        ax[i].spines['right'].set_color('none')\n",
    "        ax[i].spines['top'].set_color('none')\n",
    "\n",
    "        ax[i].legend()\n",
    "    \n",
    "    plt.show()"
   ]
  },
  {
   "cell_type": "markdown",
   "metadata": {},
   "source": [
    "#### Gráfico de $ f(x) = tan(x)$"
   ]
  },
  {
   "cell_type": "code",
   "execution_count": 9,
   "metadata": {},
   "outputs": [
    {
     "data": {
      "image/png": "[encoded data removed]",
      "text/plain": [
       "<Figure size 720x360 with 2 Axes>"
      ]
     },
     "metadata": {
      "needs_background": "light"
     },
     "output_type": "display_data"
    }
   ],
   "source": [
    "# define our intervals\n",
    "I_0 = (2, 4)\n",
    "I_1 = (5, 7)\n",
    "\n",
    "# plot\n",
    "plot_bisec(fun_lab2ej2a, [I_0, I_1], pow(10, -5), 100)"
   ]
  },
  {
   "cell_type": "markdown",
   "metadata": {},
   "source": [
    "#### Gráfico de $ f(x) = x^2 - 3 $"
   ]
  },
  {
   "cell_type": "code",
   "execution_count": 10,
   "metadata": {},
   "outputs": [
    {
     "data": {
      "image/png": "[encoded data removed]",
      "text/plain": [
       "<Figure size 720x360 with 2 Axes>"
      ]
     },
     "metadata": {
      "needs_background": "light"
     },
     "output_type": "display_data"
    }
   ],
   "source": [
    "# define our intervals\n",
    "I_0 = (-3, 3)\n",
    "I_1 = (6, 1000)\n",
    "\n",
    "# plot\n",
    "plot_bisec(fun_lab2ej2b, [I_0, I_1], pow(10, -5), 100)"
   ]
  },
  {
   "cell_type": "markdown",
   "metadata": {},
   "source": [
    "## 3: Método de Newton\n",
    "\n",
    "Escribir una función que implemente el método de Newton para hallar una raíz de $ f : \\mathbb R \\to \\mathbb R $ partiendo de un punto inicial x0. La función debe llamarse “rnewton”, y tener como entrada `(fun,x0,err,mit)` donde fun es una función que dado x retorna $ f(x) $ y $ f'(x) $, x0 es un punto inicial en $ \\mathbb R $, err es la tolerancia deseada del error y mit es el número máximo de iteraciones permitidas. El algoritmo debe finalizar en la k-esima iteración si se cumple alguna de las siguientes condiciones:\n",
    "\n",
    "$$ {|x_k - x_{k-1}| \\over |x_k|} < err $$\n",
    "<center>ò</center>\n",
    "$$ |f(xk)| < err $$\n",
    "<center>ò</center>\n",
    "$$ k \\geq mit $$\n",
    "\n",
    "La salida debe ser (hx,hf) donde $ hx=[x1, \\ldots , xN ] $ es una lista que representa el histórico de puntos generados y $ hf= [f(x1), \\ldots, f(xN)] $ el histórico de los respectivos valores funcionales."
   ]
  },
  {
   "cell_type": "code",
   "execution_count": 11,
   "metadata": {},
   "outputs": [],
   "source": [
    "def rnewton(fun, x0, err, mit):\n",
    "    x_k_p = 0\n",
    "    x_k = x0\n",
    "    hx, hf = [], []\n",
    "     \n",
    "    for _ in range(mit):\n",
    "        # get partial results\n",
    "        f_x, f_p_x = fun(x_k)\n",
    "        hx.append(x_k), hf.append(f_x)\n",
    "        \n",
    "        # have we found the solution?\n",
    "        if (abs(f_x) < abs(err)):\n",
    "            break\n",
    "            \n",
    "        # my x_k is not significant\n",
    "        # compared to my last x_k_p\n",
    "        abs_x_k = abs(x_k - x_k_p)\n",
    "        if x_k != 0 and (abs_x_k / abs(x_k) < abs(err)):\n",
    "            break\n",
    "        \n",
    "        # avoid division by zero\n",
    "        # either f is constant\n",
    "        # or has a max / min point\n",
    "        if (f_p_x == 0):\n",
    "            break\n",
    "        \n",
    "        # compute next approximation\n",
    "        x_k_p = x_k\n",
    "        x_k = x_k - (f_x / f_p_x)\n",
    "\n",
    "    return hx, hf"
   ]
  },
  {
   "cell_type": "markdown",
   "metadata": {},
   "source": [
    "Probemos $ f(x) = x^2 $ con raices en $ x = 0 $."
   ]
  },
  {
   "cell_type": "code",
   "execution_count": 12,
   "metadata": {},
   "outputs": [
    {
     "name": "stdout",
     "output_type": "stream",
     "text": [
      "Algorithm ran 36 iterations\n",
      "Final results are x = 0.00 and f(x) = 0.00\n"
     ]
    }
   ],
   "source": [
    "fun = lambda x: (pow(x, 2), x*2)\n",
    "hx, hf = rnewton(fun, 3, pow(10, -20), 100)\n",
    "\n",
    "show_results(hx, hf)"
   ]
  },
  {
   "cell_type": "markdown",
   "metadata": {},
   "source": [
    "$ f(x) = x^2 + x $ con raices en $ x = -4 $ y $ x = 0 $, aproximando desde -3 y 1."
   ]
  },
  {
   "cell_type": "code",
   "execution_count": 13,
   "metadata": {},
   "outputs": [
    {
     "name": "stdout",
     "output_type": "stream",
     "text": [
      "Algorithm ran 44 iterations\n",
      "Final results are x = -4.00 and f(x) = 0.00\n"
     ]
    }
   ],
   "source": [
    "fun = lambda x: (pow(x, 2) + 4*x, 2*x + 1)\n",
    "hx, hf = rnewton(fun, -3, pow(10, -20), 100)\n",
    "\n",
    "show_results(hx, hf)"
   ]
  },
  {
   "cell_type": "code",
   "execution_count": 14,
   "metadata": {},
   "outputs": [
    {
     "name": "stdout",
     "output_type": "stream",
     "text": [
      "Algorithm ran 47 iterations\n",
      "Final results are x = -4.00 and f(x) = 0.00\n"
     ]
    }
   ],
   "source": [
    "hx, hf = rnewton(fun, 1, pow(10, -20), 100)\n",
    "\n",
    "show_results(hx, hf)"
   ]
  },
  {
   "cell_type": "markdown",
   "metadata": {},
   "source": [
    "Probamos con una aproximación correcta en la primer iteración"
   ]
  },
  {
   "cell_type": "code",
   "execution_count": 15,
   "metadata": {},
   "outputs": [
    {
     "name": "stdout",
     "output_type": "stream",
     "text": [
      "Algorithm ran 1 iterations\n",
      "Final results are x = 0.00 and f(x) = 0.00\n"
     ]
    }
   ],
   "source": [
    "fun = lambda x: (0, 0)\n",
    "hx, hf = rnewton(fun, 0, pow(10, -10), 100)\n",
    "\n",
    "show_results(hx, hf)"
   ]
  },
  {
   "cell_type": "markdown",
   "metadata": {},
   "source": [
    "Un ejemplo donde la función es constante y no vamos a poder encontrar la raiz."
   ]
  },
  {
   "cell_type": "code",
   "execution_count": 16,
   "metadata": {},
   "outputs": [
    {
     "name": "stdout",
     "output_type": "stream",
     "text": [
      "Algorithm ran 1 iterations\n",
      "Final results are x = 0.00 and f(x) = 2.00\n"
     ]
    }
   ],
   "source": [
    "fun = lambda x: (2, 0)\n",
    "hx, hf = rnewton(fun, 0, pow(10, -10), 100)\n",
    "\n",
    "show_results(hx, hf)"
   ]
  },
  {
   "cell_type": "markdown",
   "metadata": {},
   "source": [
    "## 4: Encontrar $ \\sqrt[3]{a} $ por método de Newton\n",
    "\n",
    "Escribir una función que, ingresando $ a > 0 $, retorne una aproximación de $ \\sqrt[3]{a} $.\n",
    "\n",
    "La aproximación debe realizarse usando el método de Newton del ejercicio anterior para resolver $ x^3 - a = 0$ con un error menor a $ 10^{-6} $ mediante el uso de la función $ f(x)􏰀 = x^3 - a $."
   ]
  },
  {
   "cell_type": "code",
   "execution_count": 17,
   "metadata": {},
   "outputs": [],
   "source": [
    "def cubic_root(a):\n",
    "    assert a > 0, 'a must be > 0'\n",
    "    \n",
    "    # define f(x) = x^3 - a,\n",
    "    # his derivative\n",
    "    # and the helper function\n",
    "    f = lambda x: pow(x, 3) - a\n",
    "    f_p = lambda x: 3 * pow(x, 2)\n",
    "    fun = lambda x: (f(x), f_p(x))\n",
    "    \n",
    "    # get newton's approximation\n",
    "    hx, hf = rnewton(fun, a, pow(10, -6), 100)\n",
    "    \n",
    "    print(f'Newton\\'s approximation to {a}^(1/3) is {hx[-1]:.2f}')\n",
    "    return hx[-1]"
   ]
  },
  {
   "cell_type": "code",
   "execution_count": 18,
   "metadata": {},
   "outputs": [
    {
     "name": "stdout",
     "output_type": "stream",
     "text": [
      "Newton's approximation to 27^(1/3) is 3.00\n"
     ]
    },
    {
     "data": {
      "text/plain": [
       "3.000000001793672"
      ]
     },
     "execution_count": 18,
     "metadata": {},
     "output_type": "execute_result"
    }
   ],
   "source": [
    "cubic_root(27)"
   ]
  },
  {
   "cell_type": "markdown",
   "metadata": {},
   "source": [
    "## 5: Método de iteración de punto fijo\n",
    "\n",
    "Escribir una función que implemente el método de punto fijo para hallar un punto fijo de $ \\Phi : \\mathbb R \\to \\mathbb R $ partiendo de un punto inicial x_0.\n",
    "\n",
    "La función debe llamarse `ripf`, y tener como entrada `(fun, x0, err, mit)` donde `fun` es una función que dado x retorna $ \\Phi(x) $, `x0` es un punto en R, `err` es la tolerancia deseada del error y `mit` es el número máximo de iteraciones permitidas.\n",
    "\n",
    "El algoritmo debe finalizar en la k-ésima iteración si:\n",
    "$$ |x_k - x_{k-1}| < err $$\n",
    "<center>ó</center>\n",
    "$$ k \\geq mit $$"
   ]
  },
  {
   "cell_type": "code",
   "execution_count": 19,
   "metadata": {},
   "outputs": [],
   "source": [
    "def ripf(fun, x0, err, mit):\n",
    "    hx = []\n",
    "    x_k = x0\n",
    "    \n",
    "    for i in range(mit):\n",
    "        p = fun(x_k)\n",
    "        hx.append(p)\n",
    "\n",
    "        if abs(p - x_k) < err:\n",
    "            break\n",
    "\n",
    "        x_k = p\n",
    "\n",
    "    return hx"
   ]
  },
  {
   "cell_type": "markdown",
   "metadata": {},
   "source": [
    "## 6: Ecuación usando iteración de punto fijo\n",
    "\n",
    "Se quiere usar la fórmula de iteración: $ x_{n+1} = 2^{x_n + 1}$ para resolver la ecuación $ 2x = 2^x $.\n",
    "\n",
    "Utilizar la función del ejercicio anterior para investigar si converge; y en caso afirmativo,\n",
    "estudiar hacia qué valores lo hace para distintas elecciones de x0.\n",
    "\n",
    "Tomando $ mit = 100 $ y $ err = 10^{-5} $."
   ]
  },
  {
   "cell_type": "markdown",
   "metadata": {},
   "source": [
    "Comencemos definiendo el error y el mit:"
   ]
  },
  {
   "cell_type": "code",
   "execution_count": 20,
   "metadata": {},
   "outputs": [],
   "source": [
    "err = pow(10, -5)\n",
    "mit = 100"
   ]
  },
  {
   "cell_type": "markdown",
   "metadata": {},
   "source": [
    "Definimos la función de iteración:"
   ]
  },
  {
   "cell_type": "code",
   "execution_count": 21,
   "metadata": {},
   "outputs": [],
   "source": [
    "def f(x):\n",
    "    return pow(2, (x-1))"
   ]
  },
  {
   "cell_type": "markdown",
   "metadata": {},
   "source": [
    "Probemos con distintos valores:"
   ]
  },
  {
   "cell_type": "code",
   "execution_count": 22,
   "metadata": {},
   "outputs": [
    {
     "name": "stdout",
     "output_type": "stream",
     "text": [
      "FPI with initial value 0.5 converges to 1.0000\n",
      "FPI with initial value 1 converges to 1.0000\n",
      "FPI with initial value 1.5 converges to 1.0000\n",
      "FPI with initial value 1.8 converges to 1.0000\n",
      "FPI with initial value 2 converges to 2.0000\n",
      "FPI with initial value 2.5 failed!\n"
     ]
    }
   ],
   "source": [
    "vals = [0.5, 1, 1.5, 1.8, 2, 2.5]\n",
    "\n",
    "for iv in vals:\n",
    "    try:\n",
    "        ipf = ripf(f, iv, err, mit)\n",
    "    except OverflowError:\n",
    "        print(f'FPI with initial value {iv} failed!')\n",
    "        continue\n",
    "\n",
    "    print(f'FPI with initial value {iv} converges to {ipf[-1]:.4f}')"
   ]
  },
  {
   "cell_type": "markdown",
   "metadata": {},
   "source": [
    "Podemos observar que en el caso de esta función, para valores más grandes que 2 falla provocando un overflow, ya que superamos el máximo flotante permitido. El resto de las aproximaciones están bien."
   ]
  },
  {
   "cell_type": "markdown",
   "metadata": {},
   "source": [
    "## 7: Gráfico de aproximaciones\n",
    "\n",
    "Se desea conocer la gráfica de una función $u$ definida implícitamente como:\n",
    "\n",
    "$$ U(x) = y \\mid y - e^{-(1 - xy)^2} = 0 $$\n",
    "\n",
    "Implementar tres versiones de esta función, hallando el valor de $ y $ con los métodos de los ejercicios de bisección, Newton y punto fijo. Los valores iniciales y tolerancias usadas por los distintos métodos deben ser escogidos de manera que cualquier usuario pueda graficar u en el intervalo $ [0, 1.5] $ sin inconvenientes."
   ]
  },
  {
   "cell_type": "markdown",
   "metadata": {},
   "source": [
    "Función usando bisección:"
   ]
  },
  {
   "cell_type": "code",
   "execution_count": 23,
   "metadata": {},
   "outputs": [],
   "source": [
    "import numpy as np\n",
    "\n",
    "def ubisec(x):\n",
    "    \n",
    "    # definimos f(y) en función del x dado\n",
    "    def f(y):\n",
    "        return y - np.exp(-pow((1 - x*y), 2))\n",
    "    \n",
    "    # definimos parámetros de bisección\n",
    "    err = np.exp(-10)\n",
    "    I = (0, 1.5)\n",
    "    mit = 20\n",
    "    \n",
    "    return rbisec(f, I, err, mit)[0][-1]"
   ]
  },
  {
   "cell_type": "markdown",
   "metadata": {},
   "source": [
    "Para la aproximación de Newton, necesitamos la derivada parcial en función de y:\n",
    "\n",
    "$$ {\\partial \\over \\partial y} f(x, y) = 1 - 2 x e^{{-(x y - 1)}^2} (1 - x y) $$"
   ]
  },
  {
   "cell_type": "code",
   "execution_count": 24,
   "metadata": {},
   "outputs": [],
   "source": [
    "\n",
    "def unewton(x):\n",
    "    \n",
    "    # definimos f(y) en función del x dado\n",
    "    def f(y):\n",
    "        return y - np.exp(-pow((1 - x*y), 2))\n",
    "    \n",
    "    # definimos la derivada parcial en y\n",
    "    def f_p(y):\n",
    "        return 1 - 2 * x * np.exp(- (x * y - 1) ** 2) * (1 - x * y)\n",
    "    \n",
    "    # definimos la función a pasar a rnewton\n",
    "    def fun(y):\n",
    "        return f(y), f_p(y)\n",
    "    \n",
    "    # definimos parámetros\n",
    "    x0 = 1\n",
    "    err = np.exp(-10)\n",
    "    mit = 100\n",
    "    \n",
    "    return rnewton(fun, x0, err, mit)[0][-1]"
   ]
  },
  {
   "cell_type": "markdown",
   "metadata": {},
   "source": [
    "Para el método de iteración de punto fijo, vamos a usar la función de iteración:\n",
    "$$ g(x) = x - f(x) $$"
   ]
  },
  {
   "cell_type": "code",
   "execution_count": 25,
   "metadata": {},
   "outputs": [],
   "source": [
    "def uipf(x):\n",
    "    \n",
    "    # definimos f(y) en función del x dado\n",
    "    def f(y):\n",
    "        return y - np.exp(-pow((1 - x*y), 2))\n",
    "    \n",
    "    # función de iteración\n",
    "    def g(y):\n",
    "        return y - f(y)\n",
    "    \n",
    "    # definimos parámetros\n",
    "    err = np.exp(-10)\n",
    "    mit = 100\n",
    "    \n",
    "    return  ripf(g, x, err, mit)[-1]"
   ]
  },
  {
   "cell_type": "markdown",
   "metadata": {},
   "source": [
    "Verificamos que los resultados correspondan:"
   ]
  },
  {
   "cell_type": "code",
   "execution_count": 26,
   "metadata": {},
   "outputs": [
    {
     "data": {
      "text/plain": [
       "(1.000030517578125, 1, 1.0)"
      ]
     },
     "execution_count": 26,
     "metadata": {},
     "output_type": "execute_result"
    }
   ],
   "source": [
    "ubisec(1), unewton(1), uipf(1)"
   ]
  },
  {
   "cell_type": "markdown",
   "metadata": {},
   "source": [
    "Graficamos:"
   ]
  },
  {
   "cell_type": "code",
   "execution_count": 27,
   "metadata": {},
   "outputs": [
    {
     "data": {
      "image/png": "[encoded data removed]",
      "text/plain": [
       "<Figure size 1080x360 with 3 Axes>"
      ]
     },
     "metadata": {
      "needs_background": "light"
     },
     "output_type": "display_data"
    }
   ],
   "source": [
    "import numpy as np\n",
    "import matplotlib.pyplot as plt\n",
    "\n",
    "\n",
    "# buscamos los x del intervalo\n",
    "I = (0, 1.5)\n",
    "X = np.linspace(*I, 1000)\n",
    "\n",
    "# definimos las imágenes de cada función\n",
    "U_bisec = [ubisec(x) for x in X]\n",
    "U_newton = [unewton(x) for x in X]\n",
    "U_ipf = [uipf(x) for x in X]\n",
    "\n",
    "# mostramos los gráficos\n",
    "fig, ax = plt.subplots(1, 3, figsize=(15, 5))\n",
    "\n",
    "ax[0].plot(X, U_bisec, color='red')\n",
    "ax[0].set_title('Bisection method')\n",
    "\n",
    "ax[1].plot(X, U_newton, color='green')\n",
    "ax[1].set_title('Newton\\'s method')\n",
    "\n",
    "ax[2].plot(X, U_ipf, color='blue')\n",
    "ax[2].set_title('Fixed point iteration method')\n",
    "\n",
    "plt.show()"
   ]
  }
 ],
 "metadata": {
  "kernelspec": {
   "display_name": "Python 3",
   "language": "python",
   "name": "python3"
  },
  "language_info": {
   "codemirror_mode": {
    "name": "ipython",
    "version": 3
   },
   "file_extension": ".py",
   "mimetype": "text/x-python",
   "name": "python",
   "nbconvert_exporter": "python",
   "pygments_lexer": "ipython3",
   "version": "3.7.5"
  }
 },
 "nbformat": 4,
 "nbformat_minor": 4
}
