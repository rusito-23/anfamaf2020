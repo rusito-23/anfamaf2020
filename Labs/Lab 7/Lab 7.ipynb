{
 "cells": [
  {
   "cell_type": "markdown",
   "metadata": {},
   "source": [
    "# Lab 7: Programación lineal"
   ]
  },
  {
   "cell_type": "code",
   "execution_count": 4,
   "metadata": {},
   "outputs": [],
   "source": [
    "import numpy as np\n",
    "import matplotlib.pyplot as plt\n",
    "import scipy as sc\n",
    "import math\n",
    "import pandas as pd"
   ]
  },
  {
   "cell_type": "markdown",
   "metadata": {},
   "source": [
    "## 1)\n",
    "\n",
    "Un agricultor debe comprar fertilizantes (abono) para sus campos. El ingeniero agrónomo le dijo que cada kilogramo de fertilizante le alcanza para 10m2 de su campo, y debido a las características propias de esas tierras, el fertilizante debe contener (al menos):\n",
    "\n",
    "3g de fósforo (P), 1.5g de nitrógeno (N) y 4g de potasio (K) por cada 10m . En el mercado\n",
    "existen 2 tipos de fertilizantes: T1 y T2. El fertilizante T1 contiene 3g de P, 1g de N y 8g de K y cuesta 10 por kilogramo. En cambio, el fertilizante T2 contiene 2g de P, 3g de N y 2 g de K y cuesta 8 por kilogramo. El agricultor desea saber cuántos kilogramos de cada fertilizante debe comprar, por cada 10m2 de campo, de modo de minimizar el costo total cubriendo los requerimientos de su suelo. Graficar la región factible para el problema."
   ]
  },
  {
   "cell_type": "markdown",
   "metadata": {},
   "source": [
    "Comenzamos definiendo una tabla donde podremos resumir esta información:"
   ]
  },
  {
   "cell_type": "code",
   "execution_count": 11,
   "metadata": {},
   "outputs": [
    {
     "data": {
      "text/html": [
       "<div>\n",
       "<style scoped>\n",
       "    .dataframe tbody tr th:only-of-type {\n",
       "        vertical-align: middle;\n",
       "    }\n",
       "\n",
       "    .dataframe tbody tr th {\n",
       "        vertical-align: top;\n",
       "    }\n",
       "\n",
       "    .dataframe thead th {\n",
       "        text-align: right;\n",
       "    }\n",
       "</style>\n",
       "<table border=\"1\" class=\"dataframe\">\n",
       "  <thead>\n",
       "    <tr style=\"text-align: right;\">\n",
       "      <th></th>\n",
       "      <th>Tipo 1 (x1)</th>\n",
       "      <th>Tipo 2 (x2)</th>\n",
       "      <th>Necesidades mínimas</th>\n",
       "    </tr>\n",
       "  </thead>\n",
       "  <tbody>\n",
       "    <tr>\n",
       "      <th>P</th>\n",
       "      <td>3</td>\n",
       "      <td>2</td>\n",
       "      <td>3</td>\n",
       "    </tr>\n",
       "    <tr>\n",
       "      <th>N</th>\n",
       "      <td>1</td>\n",
       "      <td>3</td>\n",
       "      <td>1.5</td>\n",
       "    </tr>\n",
       "    <tr>\n",
       "      <th>K</th>\n",
       "      <td>8</td>\n",
       "      <td>2</td>\n",
       "      <td>4</td>\n",
       "    </tr>\n",
       "    <tr>\n",
       "      <th>Costo</th>\n",
       "      <td>10</td>\n",
       "      <td>8</td>\n",
       "      <td>-</td>\n",
       "    </tr>\n",
       "  </tbody>\n",
       "</table>\n",
       "</div>"
      ],
      "text/plain": [
       "      Tipo 1 (x1) Tipo 2 (x2) Necesidades mínimas\n",
       "P               3           2                   3\n",
       "N               1           3                 1.5\n",
       "K               8           2                   4\n",
       "Costo          10           8                   -"
      ]
     },
     "execution_count": 11,
     "metadata": {},
     "output_type": "execute_result"
    }
   ],
   "source": [
    "df = pd.DataFrame(\n",
    "    columns=['Tipo 1 (x1)', 'Tipo 2 (x2)', 'Necesidades mínimas'],\n",
    "    index=['P', 'N', 'K', 'Costo']\n",
    ")\n",
    "\n",
    "df.loc['P'] = [3, 2, 3]\n",
    "df.loc['N'] = [1, 3, 1.5]\n",
    "df.loc['K'] = [8, 2, 4]\n",
    "df.loc['Costo'] = [10, 8, '-']\n",
    "\n",
    "df"
   ]
  },
  {
   "cell_type": "markdown",
   "metadata": {},
   "source": [
    "Podemos formular el problema de la siguiente forma:\n",
    "\n",
    "Minimizar \n",
    "$$ C^T x $$\n",
    "sujeto a: \n",
    "$$ Ax \\geq b $$\n",
    "$$ x \\geq 0 $$\n",
    "\n",
    "donde $ c = (10, 8), x = (x_1, x_2) $  y:\n",
    "\n",
    "$$\n",
    "A = \n",
    "\\left( \\begin{array}{cc}\n",
    "3 & 2 \\\\\n",
    "1 & 3 \\\\\n",
    "8 & 2 \\\\\n",
    "\\end{array}\\right)\n",
    "b = \n",
    "\\left(\\begin{array}{cc}\n",
    "3 \\\\\n",
    "1.5 \\\\\n",
    "4 \\\\\n",
    "\\end{array}\\right)\n",
    "$$\n",
    "\n",
    "Para graficar la región factible, necesitamos encontrar los valores posibles de $ x $ que satifacen las restricciones. Esta es la región que debemos minimizar (i.e. optimizar) para encontrar la solución.\n",
    "\n",
    "Esto quiere decir, todos los $ x $ que satisfacen: $ Ax \\geq b $ con $ x \\geq 0 $.\n",
    "\n",
    "Se puede reducir a las siguientes condiciones de $ y $:\n",
    "\n",
    "$$ y \\geq {(3 - 3x) \\over 2} $$\n",
    "$$ y \\geq {(1.5 - x) \\over 3} $$\n",
    "$$ y \\geq {(4 - 8x) \\over 2} $$\n",
    "\n",
    "Luego, construimos un espacio de $ x $ y sobre este espacio buscamos los y que satisfacen **todas** las condiciones anteriores:"
   ]
  },
  {
   "cell_type": "code",
   "execution_count": 25,
   "metadata": {},
   "outputs": [
    {
     "data": {
      "image/png": "[encoded data removed]",
      "text/plain": [
       "<Figure size 432x288 with 1 Axes>"
      ]
     },
     "metadata": {
      "needs_background": "light"
     },
     "output_type": "display_data"
    }
   ],
   "source": [
    "# build x space\n",
    "x = np.linspace(0, 1)\n",
    "\n",
    "# contruir las líneas de las condiciones de y\n",
    "y1 = (3 - 3*x)*(1/2)\n",
    "y2 = (1.5 - x)*(1/3)\n",
    "y3 = (4 - 8*x)*(1/2)\n",
    "\n",
    "# graficar las condiciones de y\n",
    "plt.plot(x, y1, label='y1')\n",
    "plt.plot(x, y2, label='y2')\n",
    "plt.plot(x, y3, label='y3')\n",
    "\n",
    "# graficar el espacio que cumple con todas las condiciones\n",
    "plt.fill_between(x, np.maximum.reduce([y1, y2, y3]),2.5,\n",
    "                 alpha=0.7, color='dodgerblue', label='fact region')\n",
    "\n",
    "# seteamos límites para mostrar el gráfico \n",
    "plt.ylim(0, 2.5)\n",
    "plt.xlim(0, 1)\n",
    "plt.legend()\n",
    "\n",
    "plt.show()"
   ]
  }
 ],
 "metadata": {
  "kernelspec": {
   "display_name": "Python 3",
   "language": "python",
   "name": "python3"
  },
  "language_info": {
   "codemirror_mode": {
    "name": "ipython",
    "version": 3
   },
   "file_extension": ".py",
   "mimetype": "text/x-python",
   "name": "python",
   "nbconvert_exporter": "python",
   "pygments_lexer": "ipython3",
   "version": "3.7.5"
  }
 },
 "nbformat": 4,
 "nbformat_minor": 4
}
