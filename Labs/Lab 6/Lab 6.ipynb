{
 "cells": [
  {
   "cell_type": "markdown",
   "metadata": {},
   "source": [
    "# Lab 6: Solución de sistemas de ecuaciones lineales"
   ]
  },
  {
   "cell_type": "code",
   "execution_count": 2,
   "metadata": {},
   "outputs": [],
   "source": [
    "import numpy as np\n",
    "import scipy as sc\n",
    "import math\n",
    "import matplotlib.pyplot as plt\n",
    "import seaborn as sns"
   ]
  },
  {
   "cell_type": "markdown",
   "metadata": {},
   "source": [
    "## 1)\n",
    "\n",
    "Escribir `soltrsup` y `soltrinf` que resuelvan el sistema lineal $ Ax = b $, donde $ A $ es una matriz triangular (superior e inferior, respectivamente). La entrada debe ser $ (A, b) $ con $ A \\in \\mathbb{R}^{nxn} $ matriz triangular y $ b \\in \\mathbb{R} $, y la salida debe ser la solución $ x $. Se debe imprimir un mensaje de error si la matriz es singular."
   ]
  },
  {
   "cell_type": "code",
   "execution_count": 4,
   "metadata": {},
   "outputs": [],
   "source": [
    "\n",
    "def soltrinf(A, b):\n",
    "    \n",
    "    # comenzamos verificando que no sea singular\n",
    "    # es decir, que su determinante es distinto de cero\n",
    "    assert np.linalg.det(A) != 0, 'A no puede ser singular'\n",
    "    \n",
    "    # definimos N en base a la dimensión de la matriz A\n",
    "    N = A.shape[0]\n",
    "    \n",
    "    # caculamos el x\n",
    "    x = []\n",
    "    for i in range(N):\n",
    "        \n",
    "        # buscamos la suma de los productos\n",
    "        # entre la sección triangular inferior\n",
    "        # y lo que calculamos de X\n",
    "        s = 0\n",
    "        for j in range(i):\n",
    "            s += A[i][j] * x[j]\n",
    "        \n",
    "        # buscamos el resultado final de x[i]\n",
    "        x[i] = (b[i] - s) / a[i][i]\n",
    "        \n",
    "    return x\n",
    "\n",
    "\n",
    "def soltsup(A, b):\n",
    "    \n",
    "    # comenzamos verificando que no sea singular\n",
    "    # es decir, que su determinante es distinto de cero\n",
    "    assert np.linalg.det(A) != 0, 'A no puede ser singular'\n",
    "    \n",
    "    # definimos N en base a la dimensión de la matriz A\n",
    "    N = A.shape[0]\n",
    "    \n",
    "    # caculamos el x\n",
    "    x = []\n",
    "    for i in reversed(range(N)):\n",
    "        \n",
    "        # buscamos la suma de los productos\n",
    "        # entre la sección triangular superior\n",
    "        # y lo que calculamos de X\n",
    "        s = 0\n",
    "        for j in range(i + 1, N):\n",
    "            s += A[i][j] * x[j]\n",
    "        \n",
    "        # buscamos el resultado final de x[i]\n",
    "        x[i] = (b[i] - s) / a[i][i]\n",
    "        \n",
    "    return x\n"
   ]
  }
 ],
 "metadata": {
  "kernelspec": {
   "display_name": "Python 3",
   "language": "python",
   "name": "python3"
  },
  "language_info": {
   "codemirror_mode": {
    "name": "ipython",
    "version": 3
   },
   "file_extension": ".py",
   "mimetype": "text/x-python",
   "name": "python",
   "nbconvert_exporter": "python",
   "pygments_lexer": "ipython3",
   "version": "3.7.5"
  }
 },
 "nbformat": 4,
 "nbformat_minor": 4
}
