{
 "cells": [
  {
   "cell_type": "markdown",
   "metadata": {},
   "source": [
    "# Lab 6: Solución de sistemas de ecuaciones lineales"
   ]
  },
  {
   "cell_type": "code",
   "execution_count": 1,
   "metadata": {},
   "outputs": [],
   "source": [
    "import numpy as np\n",
    "import scipy as sc\n",
    "import scipy.linalg\n",
    "import math\n",
    "import matplotlib.pyplot as plt\n",
    "import time\n",
    "import pandas as pd"
   ]
  },
  {
   "cell_type": "markdown",
   "metadata": {},
   "source": [
    "## 1)\n",
    "\n",
    "Escribir `soltrsup` y `soltrinf` que resuelvan el sistema lineal $ Ax = b $, donde $ A $ es una matriz triangular (superior e inferior, respectivamente). La entrada debe ser $ (A, b) $ con $ A \\in \\mathbb{R}^{nxn} $ matriz triangular y $ b \\in \\mathbb{R} $, y la salida debe ser la solución $ x $. Se debe imprimir un mensaje de error si la matriz es singular."
   ]
  },
  {
   "cell_type": "code",
   "execution_count": 2,
   "metadata": {},
   "outputs": [],
   "source": [
    "def soltrinf(A, b):\n",
    "    \n",
    "    # comenzamos verificando que no sea singular\n",
    "    # es decir, que su determinante es distinto de cero\n",
    "    assert np.linalg.det(A) != 0, 'A no puede ser singular'\n",
    "    assert A.shape[0] == b.shape[0], 'A y b deben tener la misma altura'\n",
    "    \n",
    "    # definimos N en base a la dimensión de la matriz A\n",
    "    N = A.shape[0]\n",
    "    \n",
    "    # caculamos el x\n",
    "    x = np.zeros_like(b, dtype=np.float)\n",
    "    for i in range(N):\n",
    "        # buscamos la suma de los productos\n",
    "        # entre la sección triangular inferior\n",
    "        # y lo que calculamos ya de X\n",
    "        s = sum([A[i, j] * x[j] for j in range(i)])\n",
    "        \n",
    "        # buscamos el resultado final de x[i]\n",
    "        x[i] = (b[i] - s) / A[i, i]\n",
    "        \n",
    "    return x\n",
    "\n",
    "\n",
    "def soltsup(A, b):\n",
    "    \n",
    "    # comenzamos verificando que no sea singular\n",
    "    # es decir, que su determinante es distinto de cero\n",
    "    assert np.linalg.det(A) != 0, 'A no puede ser singular'\n",
    "    assert A.shape[0] == b.shape[0], 'A y b deben tener la misma altura'\n",
    "    \n",
    "    # definimos N en base a la dimensión de la matriz A\n",
    "    N = A.shape[0]\n",
    "    \n",
    "    # caculamos el x\n",
    "    x = np.zeros_like(b, dtype=np.float)\n",
    "    for i in reversed(range(N)):\n",
    "        \n",
    "        # buscamos la suma de los productos\n",
    "        # entre la sección triangular superior\n",
    "        # y lo que calculamos de X\n",
    "        s = sum([A[i, j] * x[j] for j in range(i + 1, N)])\n",
    "        \n",
    "        # buscamos el resultado final de x[i]\n",
    "        x[i] = (b[i] - s) / A[i, i]\n",
    "        \n",
    "    return x\n"
   ]
  },
  {
   "cell_type": "markdown",
   "metadata": {},
   "source": [
    "Probamos las funciones con matrices conocidas ([https://matrixcalc.org/en/slu.html]()):\n",
    "\n",
    "$$\n",
    "\\left(\\begin{array}{cc}\n",
    "1 & 0 & 0 \\\\\n",
    "5 & 5 & 0 \\\\\n",
    "3 & 2 & 1\n",
    "\\end{array}\\right)\n",
    "\\left(\\begin{array}{cc}\n",
    "2 \\\\\n",
    "-7/5 \\\\\n",
    "-6/5\n",
    "\\end{array}\\right)\n",
    "=\n",
    "\\left(\\begin{array}{cc}\n",
    "2 \\\\\n",
    "3 \\\\\n",
    "2\n",
    "\\end{array}\\right)\n",
    "$$ "
   ]
  },
  {
   "cell_type": "code",
   "execution_count": 3,
   "metadata": {},
   "outputs": [
    {
     "data": {
      "text/plain": [
       "array([ 2. , -1.4, -1.2])"
      ]
     },
     "execution_count": 3,
     "metadata": {},
     "output_type": "execute_result"
    }
   ],
   "source": [
    "A = np.stack([[1, 0, 0],\n",
    "              [5, 5, 0],\n",
    "              [3, 2, 1]])\n",
    "b = np.array([2, 3, 2])\n",
    "\n",
    "x = soltrinf(A, b)\n",
    "x"
   ]
  },
  {
   "cell_type": "markdown",
   "metadata": {},
   "source": [
    "$$\n",
    "\\left(\\begin{array}{cc}\n",
    "1 & 5 & 3 \\\\\n",
    "0 & 5 & 5 \\\\\n",
    "0 & 0 & 1\n",
    "\\end{array}\\right)\n",
    "\\left(\\begin{array}{cc}\n",
    "3 \\\\\n",
    "-7/5 \\\\\n",
    "2\n",
    "\\end{array}\\right)\n",
    "=\n",
    "\\left(\\begin{array}{cc}\n",
    "2 \\\\\n",
    "3 \\\\\n",
    "2\n",
    "\\end{array}\\right)\n",
    "$$ "
   ]
  },
  {
   "cell_type": "code",
   "execution_count": 4,
   "metadata": {},
   "outputs": [
    {
     "data": {
      "text/plain": [
       "array([ 3. , -1.4,  2. ])"
      ]
     },
     "execution_count": 4,
     "metadata": {},
     "output_type": "execute_result"
    }
   ],
   "source": [
    "A = np.stack([[1, 5, 3],\n",
    "              [0, 5, 5],\n",
    "              [0, 0, 1]])\n",
    "b = np.array([2, 3, 2])\n",
    "\n",
    "x = soltsup(A, b)\n",
    "x"
   ]
  },
  {
   "cell_type": "markdown",
   "metadata": {},
   "source": [
    "## 2) \n",
    "\n",
    "### a) \n",
    "\n",
    "Escribir una función llamada `egauss` que implemente el método de la eliminación Gaussiana. Este método nos ayuda a simplificar sistemas representados con matrices triangulares superiores (no necesariamente no singulares), de manera que puedan ser resueltos por el método descripto en el ejercicio anterior.\n",
    "\n",
    "Por esta razón, la entrada de la función debería ser una matrix y un vector, y se devuelven $ U, y $, correspondientes a $ A, b $ transformados."
   ]
  },
  {
   "cell_type": "code",
   "execution_count": 5,
   "metadata": {},
   "outputs": [],
   "source": [
    "def egauss(A, b):\n",
    "    \n",
    "    # definimos N en base a la dimensión de A\n",
    "    N = A.shape[0]\n",
    "    \n",
    "    # copiamos los datos de entrada\n",
    "    # los cuales iremos modificando para simplificar\n",
    "    # el sistema\n",
    "    U, y = A.copy(), b.copy()\n",
    "    U, y = U.astype(np.float), y.astype(np.float)\n",
    "    \n",
    "    for k in range(N - 1):\n",
    "        for i in range(k + 1, N):            \n",
    "            assert A[k, k] != 0, f'Diag Cero:  A{k}{k} = 0'\n",
    "            \n",
    "            # calculamos los nuevos valores\n",
    "            # de nuestra matriz / vector\n",
    "            m = U[i, k] / U[k, k]\n",
    "\n",
    "            for j in range(k + 1, N):\n",
    "                U[i, j] = U[i, j] - m * U[k, j]\n",
    "\n",
    "            y[i] = y[i] - m*y[k]\n",
    "    \n",
    "    # convertimos a cero todos los valores\n",
    "    # por debajo de la diagonal de U \n",
    "    # ya que queremos una matriz triangular superior no singular\n",
    "    U = np.triu(U)\n",
    "\n",
    "    return U, y\n"
   ]
  },
  {
   "cell_type": "markdown",
   "metadata": {},
   "source": [
    "## b)\n",
    "\n",
    "Escribir una función llamada `soleg` que resuelva sistemas lineales $ Ax = b $ utilizando eliminación Gaussiana y resolviendo el sistema triangular superior."
   ]
  },
  {
   "cell_type": "code",
   "execution_count": 6,
   "metadata": {},
   "outputs": [],
   "source": [
    "\n",
    "def soleg(A, b):\n",
    "    \n",
    "    # conseguimos la simplificación\n",
    "    U, y = egauss(A, b)\n",
    "    \n",
    "    # resolvemos el sistema triangular superior\n",
    "    x = soltsup(U, y)\n",
    "    \n",
    "    return x"
   ]
  },
  {
   "cell_type": "markdown",
   "metadata": {},
   "source": [
    "Probamos una solución conocida:\n",
    "\n",
    "$$\n",
    "\\left(\\begin{array}{cc}\n",
    "6 & -2 & 2 & 4 \\\\\n",
    "12 & -8 & 6 & 10 \\\\\n",
    "3 & -13 & 9 & 3 \\\\\n",
    "-6 & 4 & 1 & -18\n",
    "\\end{array}\\right)\n",
    "\\left(\\begin{array}{cc}\n",
    "1 \\\\\n",
    "-3 \\\\\n",
    "-2 \\\\\n",
    "1\n",
    "\\end{array}\\right)\n",
    "=\n",
    "\\left(\\begin{array}{cc}\n",
    "12 \\\\\n",
    "34 \\\\\n",
    "27 \\\\\n",
    "-38\n",
    "\\end{array}\\right)\n",
    "$$ "
   ]
  },
  {
   "cell_type": "code",
   "execution_count": 7,
   "metadata": {},
   "outputs": [
    {
     "data": {
      "text/plain": [
       "array([ 1., -3., -2.,  1.])"
      ]
     },
     "execution_count": 7,
     "metadata": {},
     "output_type": "execute_result"
    }
   ],
   "source": [
    "# construir las matrices\n",
    "A = np.stack([[6, -2, 2, 4],\n",
    "              [12, -8, 6, 10],\n",
    "              [3, -13, 9, 3],\n",
    "              [-6, 4, 1, -18]])\n",
    "\n",
    "b = np.array([12, 34, 27, -38])\n",
    "\n",
    "# usamos soleg\n",
    "\n",
    "x = soleg(A, b)\n",
    "\n",
    "x"
   ]
  },
  {
   "cell_type": "markdown",
   "metadata": {},
   "source": [
    "## 3)\n",
    "\n",
    "Escribir una función llamada `sollu` que resuelva sistemas lineales $ Ax = b $ usando descomposición LU con pivoteo (para obtener dicha descomposición investigar el subpaquete de la librería scipy: `linalg`) para luego resolver $ Ly = P^-1 b $ (¿Cómo se puede obtener la inversa de una matriz de pivoteo?) y $ Ux = y $ usando `soltrinf` y `soltrsup`. la salida debe ser la solución $x$ y debe tener de entrada $ (A, b) $ con $ A \\in \\mathbb R^{nxn} $ y $ b \\in \\mathbb R^n $. \n",
    "\n",
    "Primero comenzamos investigando cómo se puede descomponer una matriz A:"
   ]
  },
  {
   "cell_type": "code",
   "execution_count": 8,
   "metadata": {},
   "outputs": [
    {
     "data": {
      "text/plain": [
       "((4, 4), (4, 4), (4, 4), (4, 4))"
      ]
     },
     "execution_count": 8,
     "metadata": {},
     "output_type": "execute_result"
    }
   ],
   "source": [
    "A = np.random.randn(4, 4)\n",
    "P, L, U = sc.linalg.lu(A)\n",
    "\n",
    "A.shape, P.shape, L.shape, U.shape"
   ]
  },
  {
   "cell_type": "markdown",
   "metadata": {},
   "source": [
    "Ahora que tenemos estos datos, construimos nuestra función:"
   ]
  },
  {
   "cell_type": "code",
   "execution_count": 9,
   "metadata": {},
   "outputs": [],
   "source": [
    "def sollu(A, b):\n",
    "    # buscamos la descomposición\n",
    "    P, L, U = sc.linalg.lu(A.astype(np.float))\n",
    "    \n",
    "    # resolvemos Ly = P^(-1)b\n",
    "    # P.T es la inversa de P\n",
    "    # @ es el operador para multiplicar ndarrays\n",
    "    y = soltrinf(L, P.T @ b)\n",
    "    \n",
    "    # resolvemos Ux = y\n",
    "    x = soltsup(U, y)\n",
    "    \n",
    "    return x"
   ]
  },
  {
   "cell_type": "code",
   "execution_count": 10,
   "metadata": {},
   "outputs": [
    {
     "data": {
      "text/plain": [
       "array([ 1., -3., -2.,  1.])"
      ]
     },
     "execution_count": 10,
     "metadata": {},
     "output_type": "execute_result"
    }
   ],
   "source": [
    "# construir las matrices\n",
    "A = np.stack([[6, -2, 2, 4],\n",
    "              [12, -8, 6, 10],\n",
    "              [3, -13, 9, 3],\n",
    "              [-6, 4, 1, -18]])\n",
    "\n",
    "b = np.array([12, 34, 27, -38])\n",
    "\n",
    "# usamos soleg\n",
    "\n",
    "x = sollu(A, b)\n",
    "\n",
    "x"
   ]
  },
  {
   "cell_type": "markdown",
   "metadata": {},
   "source": [
    "## 4)\n",
    "\n",
    "Comparar las soluciones dadas por `soleg` y `sollu` al resolver $ Ax = b $ con:\n",
    "\n",
    "$$\n",
    "A = \n",
    "\\left(\\begin{array}{cc}\n",
    "4 & -1 & 0 & -1 & 0 & 0 \\\\\n",
    "-1 & 4 & -1 & 0 & -1 & 0 \\\\\n",
    "0 & -1 & 4 & 0 & 0 & -1 \\\\\n",
    "-1 & 0 & 0 & 4 & -1 & 0 \\\\\n",
    "0 & -1 & 0 & -1 & 4 & -1 \\\\\n",
    "0 & 0 & -1 & 0 & -1 & 4 \\\\\n",
    "\\end{array}\\right)\n",
    " , b1 = \n",
    "\\left(\\begin{array}{cc}\n",
    "1 \\\\\n",
    "1 \\\\\n",
    "1 \\\\\n",
    "0 \\\\\n",
    "0 \\\\\n",
    "0 \\\\\n",
    "\\end{array}\\right)\n",
    ", b2 =\n",
    "\\left(\\begin{array}{cc}\n",
    "1 \\\\\n",
    "1 \\\\\n",
    "1 \\\\\n",
    "1 \\\\\n",
    "1 \\\\\n",
    "1 \\\\\n",
    "\\end{array}\\right)\n",
    "$$\n",
    "\n",
    "Para comparar los dos métodos, no sólo vamos a usar los resultados, si no que vamos a calcular cuánto tiempo lleva cada uno."
   ]
  },
  {
   "cell_type": "code",
   "execution_count": 11,
   "metadata": {},
   "outputs": [
    {
     "name": "stdout",
     "output_type": "stream",
     "text": [
      "Método soleg con b1, tiempo = 0.0017739999999999423\n",
      "Método sollu con b1, tiempo = 0.0011450000000001737\n",
      "Método soleg con b2, tiempo = 0.002030999999999894\n",
      "Método sollu con b2, tiempo = 0.0009600000000000719\n"
     ]
    }
   ],
   "source": [
    "# definimos los parámetros\n",
    "\n",
    "A = np.matrix([\n",
    "    [4, -1, 0, -1, 0, 0],\n",
    "    [-1, 4, -1, 0, -1, 0],\n",
    "    [0, -1, 4, 0, 0, -1],\n",
    "    [-1, 0, 0, 4, -1, 0],\n",
    "    [0, -1, 0, -1, 4, -1],\n",
    "    [0, 0, -1, 0, -1, 4],\n",
    "])\n",
    "\n",
    "b_1 = np.array([1, 1, 1, 0, 0, 0])\n",
    "b_2 = np.array([1, 1, 1, 1, 1, 1])\n",
    "\n",
    "# método soleg con b1\n",
    "\n",
    "soleg_b1_start = time.process_time()\n",
    "soleg_x_1 = soleg(A, b_1)\n",
    "soleg_b1_end = time.process_time()\n",
    "\n",
    "# método soleg con b2\n",
    "\n",
    "soleg_b2_start = time.process_time()\n",
    "soleg_x_2 = soleg(A, b_2)\n",
    "soleg_b2_end = time.process_time()\n",
    "\n",
    "# método sollu con b1\n",
    "\n",
    "sollu_b1_start = time.process_time()\n",
    "sollu_x_1 = sollu(A, b_1)\n",
    "sollu_b1_end = time.process_time()\n",
    "\n",
    "# método sollu con b2\n",
    "\n",
    "sollu_b2_start = time.process_time()\n",
    "sollu_x_2 = sollu(A, b_2)\n",
    "sollu_b2_end = time.process_time()\n",
    "\n",
    "# validamos que los resultados\n",
    "# sean lo suficientemente parecidos\n",
    "\n",
    "assert np.isclose(soleg_x_1, sollu_x_1, 0.0001).all(), 'Para b1 son distintos'\n",
    "assert np.isclose(soleg_x_2, sollu_x_2, 0.0001).all(), 'Para b2 son distintos'\n",
    "\n",
    "# mostramos los resultados:\n",
    "\n",
    "print(f'Método soleg con b1, tiempo = {soleg_b1_end - soleg_b1_start}')\n",
    "print(f'Método sollu con b1, tiempo = {sollu_b1_end - sollu_b1_start}')\n",
    "\n",
    "print(f'Método soleg con b2, tiempo = {soleg_b2_end - soleg_b2_start}')\n",
    "print(f'Método sollu con b2, tiempo = {sollu_b2_end - sollu_b2_start}')"
   ]
  },
  {
   "cell_type": "markdown",
   "metadata": {},
   "source": [
    "Cómo podemos observar, en la mayoría de los casos, el método `soleg` es mucho más rápido que `sollu`."
   ]
  },
  {
   "cell_type": "markdown",
   "metadata": {},
   "source": [
    "## 5)\n",
    "\n",
    "Escribir dos funciones llamadas `jacobi` y  `gseidel` que resuelvan sistemas lineales $ Ax = b $ usando los respectivos métodos. La salida debe ser $ [x, k] $ donde $ x $ es la solución aproximada y $ k $ la cantidad de iteraciones realizadas. Debe tener entrada $ (A, b, err, mit) $ con $ A \\in \\mathbb R^(nxn), b \\in \\mathbb R^n $, err es la tolerancia de error y mit es la cantidad máxima de iteraciones a realizar. El algoritmo debe parar si $ || x^{(k)} - x^{(k - 1)} ||_{\\infty} \\leq err $ o $ k \\geq mit $."
   ]
  },
  {
   "cell_type": "code",
   "execution_count": 12,
   "metadata": {},
   "outputs": [],
   "source": [
    "def jacobi(A, b, err, mit):\n",
    "    # convertimos todo a flotante\n",
    "    A = A.astype(np.float)\n",
    "    b = b.astype(np.float)\n",
    "    \n",
    "    # inicializamos x con ceros y definimos N\n",
    "    x = np.zeros_like(b)\n",
    "    N = A.shape[0]\n",
    "    \n",
    "    for k in range(mit):\n",
    "        \n",
    "        # buscamos una nueva aproximación\n",
    "        u = x.copy()\n",
    "        for i in range(N):\n",
    "            sum_i = sum([A[i, j] * x[j] for j in range(N) if j != i])\n",
    "            u[i] = (1 / A[i, i]) * (b[i] - sum_i)\n",
    "        \n",
    "        # validamos y pisamos x\n",
    "        if (np.abs(u - x) < err).all():\n",
    "            return u, k\n",
    "        x = u\n",
    "    \n",
    "    return x, mit"
   ]
  },
  {
   "cell_type": "code",
   "execution_count": 13,
   "metadata": {},
   "outputs": [
    {
     "data": {
      "text/plain": [
       "array([ 0.20004988, -0.26670546])"
      ]
     },
     "execution_count": 13,
     "metadata": {},
     "output_type": "execute_result"
    }
   ],
   "source": [
    "# probamos jacobi\n",
    "\n",
    "A = np.matrix([\n",
    "    [7, -6],\n",
    "    [-8, 9]\n",
    "])\n",
    "b = np.array([3, -4])\n",
    "\n",
    "x, k = jacobi(A, b, 0.0001, 100)\n",
    "x"
   ]
  },
  {
   "cell_type": "code",
   "execution_count": 14,
   "metadata": {},
   "outputs": [],
   "source": [
    "def gseidel(A, b, err, mit):\n",
    "    # convertimos todo a flotante\n",
    "    A = A.astype(np.float)\n",
    "    b = b.astype(np.float)\n",
    "    \n",
    "    # inicializamos x con ceros y definimos N\n",
    "    x = np.zeros_like(b)\n",
    "    N = A.shape[0]\n",
    "    \n",
    "    for k in range(mit):\n",
    "        \n",
    "        # buscamos una aproximación\n",
    "        u = np.zeros_like(x)\n",
    "        for i in range(N):\n",
    "            sum_i = sum([A[i, j] * x[j] for j in range(N) if j != i])\n",
    "            u[i] = (1 / A[i, i]) * (b[i] - sum_i)\n",
    "        \n",
    "        # validamos y actualizamos x\n",
    "        if (np.abs(u - x) < err).all():\n",
    "            return u, k\n",
    "        \n",
    "        x = u\n",
    "    \n",
    "    return x, mit"
   ]
  },
  {
   "cell_type": "code",
   "execution_count": 16,
   "metadata": {},
   "outputs": [
    {
     "data": {
      "text/plain": [
       "array([ 0.20004988, -0.26670546])"
      ]
     },
     "execution_count": 16,
     "metadata": {},
     "output_type": "execute_result"
    }
   ],
   "source": [
    "# probamos Gauss Seidel\n",
    "\n",
    "A = np.matrix([\n",
    "    [7, -6],\n",
    "    [-8, 9]\n",
    "])\n",
    "b = np.array([3, -4])\n",
    "\n",
    "x, k = gseidel(A, b, 0.0001, 100)\n",
    "x"
   ]
  },
  {
   "cell_type": "markdown",
   "metadata": {},
   "source": [
    "## 6)\n",
    "\n",
    "Usar los métodos de Jacobi y Gauss-Seidel para resolver:\n",
    "\n",
    "$$\n",
    "(1) \n",
    "\\left(\\begin{array}{cc}\n",
    "3 & 1 & 1 \\\\\n",
    "2 & 6 & 1 \\\\\n",
    "1 & 1 & 4 \\\\\n",
    "\\end{array}\\right)\n",
    "\\left(\\begin{array}{cc}\n",
    "x_1 \\\\\n",
    "x_2 \\\\\n",
    "x_3 \\\\\n",
    "\\end{array}\\right)\n",
    "=\n",
    "\\left(\\begin{array}{cc}\n",
    "5 \\\\\n",
    "9 \\\\\n",
    "6 \\\\\n",
    "\\end{array}\\right)\n",
    ", (2) \n",
    "\\left(\\begin{array}{cc}\n",
    "5 & 7 & 6 & 5 \\\\\n",
    "7 & 10 & 8 & 7 \\\\\n",
    "6 & 8 & 10 & 9 \\\\\n",
    "5 & 7 & 9 & 10 \\\\\n",
    "\\end{array}\\right)\n",
    "\\left(\\begin{array}{cc}\n",
    "x_1 \\\\\n",
    "x_2 \\\\\n",
    "x_3 \\\\\n",
    "x_4 \\\\\n",
    "\\end{array}\\right)\n",
    "=\n",
    "\\left(\\begin{array}{cc}\n",
    "23 \\\\\n",
    "32 \\\\\n",
    "33 \\\\\n",
    "31 \\\\\n",
    "\\end{array}\\right)\n",
    "$$\n",
    "\n"
   ]
  },
  {
   "cell_type": "code",
   "execution_count": 18,
   "metadata": {},
   "outputs": [
    {
     "name": "stdout",
     "output_type": "stream",
     "text": [
      "Jacobi: x = [1. 1. 1.], k = 45 \n",
      "Gauss-Seidel: x = [1. 1. 1.], k = 45\n"
     ]
    }
   ],
   "source": [
    "# (1)\n",
    "\n",
    "A = np.matrix([\n",
    "    [3, 1, 1],\n",
    "    [2, 6, 1],\n",
    "    [1, 1, 4],\n",
    "])\n",
    "b = np.array([5, 9, 6])\n",
    "err = pow(10, -11)\n",
    "\n",
    "jx, jk = jacobi(A, b, err, 500)\n",
    "gx, gk = gseidel(A, b, err, 500)\n",
    "\n",
    "print(\n",
    "f'Jacobi: x = {jx}, k = {jk} \\n'\n",
    "f'Gauss-Seidel: x = {gx}, k = {gk}'\n",
    ")"
   ]
  },
  {
   "cell_type": "code",
   "execution_count": 21,
   "metadata": {},
   "outputs": [
    {
     "name": "stdout",
     "output_type": "stream",
     "text": [
      "Jacobi: x = [-9.62494568e+196 -6.69787281e+196 -6.78902817e+196 -6.30550249e+196], k = 500 \n",
      "Gauss-Seidel: x = [-9.62494568e+196 -6.69787281e+196 -6.78902817e+196 -6.30550249e+196], k = 500\n"
     ]
    }
   ],
   "source": [
    "# (2)\n",
    "\n",
    "A = np.matrix([\n",
    "    [5, 7, 6, 5],\n",
    "    [7, 10, 8, 7],\n",
    "    [6, 8, 10, 9],\n",
    "    [5, 7, 9, 10]\n",
    "])\n",
    "b = np.array([23, 32, 33, 31])\n",
    "err = pow(10, -11)\n",
    "\n",
    "jx, jk = jacobi(A, b, err, 500)\n",
    "gx, gk = gseidel(A, b, err, 500)\n",
    "\n",
    "print(\n",
    "f'Jacobi: x = {jx}, k = {jk} \\n'\n",
    "f'Gauss-Seidel: x = {gx}, k = {gk}'\n",
    ")"
   ]
  }
 ],
 "metadata": {
  "kernelspec": {
   "display_name": "Python 3",
   "language": "python",
   "name": "python3"
  },
  "language_info": {
   "codemirror_mode": {
    "name": "ipython",
    "version": 3
   },
   "file_extension": ".py",
   "mimetype": "text/x-python",
   "name": "python",
   "nbconvert_exporter": "python",
   "pygments_lexer": "ipython3",
   "version": "3.7.5"
  }
 },
 "nbformat": 4,
 "nbformat_minor": 4
}
