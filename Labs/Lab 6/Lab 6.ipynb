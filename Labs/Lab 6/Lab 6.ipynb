{
 "cells": [
  {
   "cell_type": "markdown",
   "metadata": {},
   "source": [
    "# Lab 6: Solución de sistemas de ecuaciones lineales"
   ]
  },
  {
   "cell_type": "code",
   "execution_count": 1,
   "metadata": {},
   "outputs": [],
   "source": [
    "import numpy as np\n",
    "import scipy as sc\n",
    "import math\n",
    "import matplotlib.pyplot as plt"
   ]
  },
  {
   "cell_type": "markdown",
   "metadata": {},
   "source": [
    "## 1)\n",
    "\n",
    "Escribir `soltrsup` y `soltrinf` que resuelvan el sistema lineal $ Ax = b $, donde $ A $ es una matriz triangular (superior e inferior, respectivamente). La entrada debe ser $ (A, b) $ con $ A \\in \\mathbb{R}^{nxn} $ matriz triangular y $ b \\in \\mathbb{R} $, y la salida debe ser la solución $ x $. Se debe imprimir un mensaje de error si la matriz es singular."
   ]
  },
  {
   "cell_type": "code",
   "execution_count": 65,
   "metadata": {},
   "outputs": [],
   "source": [
    "def soltrinf(A, b):\n",
    "    \n",
    "    # comenzamos verificando que no sea singular\n",
    "    # es decir, que su determinante es distinto de cero\n",
    "    assert np.linalg.det(A) != 0, 'A no puede ser singular'\n",
    "    assert A.shape[0] == b.shape[0], 'A y b deben tener la misma altura'\n",
    "    \n",
    "    # definimos N en base a la dimensión de la matriz A\n",
    "    N = A.shape[0]\n",
    "    \n",
    "    # caculamos el x\n",
    "    x = np.zeros_like(b, dtype=np.float32)\n",
    "    for i in range(N):\n",
    "        # buscamos la suma de los productos\n",
    "        # entre la sección triangular inferior\n",
    "        # y lo que calculamos ya de X\n",
    "        s = sum([A[i, j] * x[j] for j in range(i)])\n",
    "        \n",
    "        # buscamos el resultado final de x[i]\n",
    "        x[i] = (b[i] - s) / A[i, i]\n",
    "        \n",
    "    return x\n",
    "\n",
    "\n",
    "def soltsup(A, b):\n",
    "    \n",
    "    # comenzamos verificando que no sea singular\n",
    "    # es decir, que su determinante es distinto de cero\n",
    "    assert np.linalg.det(A) != 0, 'A no puede ser singular'\n",
    "    assert A.shape[0] == b.shape[0], 'A y b deben tener la misma altura'\n",
    "    \n",
    "    # definimos N en base a la dimensión de la matriz A\n",
    "    N = A.shape[0]\n",
    "    \n",
    "    # caculamos el x\n",
    "    x = np.zeros_like(b, dtype=np.float32)\n",
    "    for i in reversed(range(N)):\n",
    "        \n",
    "        # buscamos la suma de los productos\n",
    "        # entre la sección triangular superior\n",
    "        # y lo que calculamos de X\n",
    "        s = sum([A[i, j] * x[j] for j in range(i + 1, N)])\n",
    "        \n",
    "        # buscamos el resultado final de x[i]\n",
    "        x[i] = (b[i] - s) / A[i, i]\n",
    "        \n",
    "    return x\n"
   ]
  },
  {
   "cell_type": "markdown",
   "metadata": {},
   "source": [
    "Probamos las funciones con matrices conocidas ([https://matrixcalc.org/en/slu.html]()):\n",
    "\n",
    "$$\n",
    "\\left(\\begin{array}{cc}\n",
    "1 & 0 & 0 \\\\\n",
    "5 & 5 & 0 \\\\\n",
    "3 & 2 & 1\n",
    "\\end{array}\\right)\n",
    "\\left(\\begin{array}{cc}\n",
    "2 \\\\\n",
    "-7/5 \\\\\n",
    "-6/5\n",
    "\\end{array}\\right)\n",
    "=\n",
    "\\left(\\begin{array}{cc}\n",
    "2 \\\\\n",
    "3 \\\\\n",
    "2\n",
    "\\end{array}\\right)\n",
    "$$ "
   ]
  },
  {
   "cell_type": "code",
   "execution_count": 66,
   "metadata": {},
   "outputs": [
    {
     "data": {
      "text/plain": [
       "array([ 2. , -1.4, -1.2], dtype=float32)"
      ]
     },
     "execution_count": 66,
     "metadata": {},
     "output_type": "execute_result"
    }
   ],
   "source": [
    "A = np.stack([[1, 0, 0],\n",
    "              [5, 5, 0],\n",
    "              [3, 2, 1]])\n",
    "b = np.array([2, 3, 2])\n",
    "\n",
    "x = soltrinf(A, b)\n",
    "x"
   ]
  },
  {
   "cell_type": "markdown",
   "metadata": {},
   "source": [
    "$$\n",
    "\\left(\\begin{array}{cc}\n",
    "1 & 5 & 3 \\\\\n",
    "0 & 5 & 5 \\\\\n",
    "0 & 0 & 1\n",
    "\\end{array}\\right)\n",
    "\\left(\\begin{array}{cc}\n",
    "3 \\\\\n",
    "-7/5 \\\\\n",
    "2\n",
    "\\end{array}\\right)\n",
    "=\n",
    "\\left(\\begin{array}{cc}\n",
    "2 \\\\\n",
    "3 \\\\\n",
    "2\n",
    "\\end{array}\\right)\n",
    "$$ "
   ]
  },
  {
   "cell_type": "code",
   "execution_count": 67,
   "metadata": {},
   "outputs": [
    {
     "data": {
      "text/plain": [
       "array([ 3. , -1.4,  2. ], dtype=float32)"
      ]
     },
     "execution_count": 67,
     "metadata": {},
     "output_type": "execute_result"
    }
   ],
   "source": [
    "A = np.stack([[1, 5, 3],\n",
    "              [0, 5, 5],\n",
    "              [0, 0, 1]])\n",
    "b = np.array([2, 3, 2])\n",
    "\n",
    "x = soltsup(A, b)\n",
    "x"
   ]
  },
  {
   "cell_type": "markdown",
   "metadata": {},
   "source": [
    "## 2) \n",
    "\n",
    "### a) \n",
    "\n",
    "Escribir una función llamada `egauss` que implemente el método de la eliminación Gaussiana. Este método nos ayuda a simplificar sistemas representados con matrices triangulares superiores (no necesariamente no singulares), de manera que puedan ser resueltos por el método descripto en el ejercicio anterior.\n",
    "\n",
    "Por esta razón, la entrada de la función debería ser una matrix y un vector, y se devuelven $ U, y $, correspondientes a $ A, b $ transformados."
   ]
  },
  {
   "cell_type": "code",
   "execution_count": 76,
   "metadata": {},
   "outputs": [],
   "source": [
    "def egauss(A, b):\n",
    "    \n",
    "    # definimos N en base a la dimensión de A\n",
    "    N = A.shape[0]\n",
    "    \n",
    "    # copiamos los datos de entrada\n",
    "    # los cuales iremos modificando para simplificar\n",
    "    # el sistema\n",
    "    U, y = A.copy(), b.copy()\n",
    "    U, y = U.astype(np.float32), y.astype(np.float32)\n",
    "    \n",
    "    for k in range(N - 1):\n",
    "        for i in range(k + 1, N):            \n",
    "            assert A[k, k] != 0, f'Diag Cero:  A{k}{k} = 0'\n",
    "            \n",
    "            # calculamos los nuevos valores\n",
    "            # de nuestra matriz / vector\n",
    "            m = U[i, k] / U[k, k]\n",
    "\n",
    "            for j in range(k + 1, N):\n",
    "                U[i, j] = U[i, j] - m * U[k, j]\n",
    "\n",
    "            y[i] = y[i] - m*y[k]\n",
    "    \n",
    "    # convertimos a cero todos los valores\n",
    "    # por debajo de la diagonal de U \n",
    "    # ya que queremos una matriz triangular superior no singular\n",
    "    U = np.triu(U)\n",
    "\n",
    "    return U, y\n"
   ]
  },
  {
   "cell_type": "markdown",
   "metadata": {},
   "source": [
    "## b)\n",
    "\n",
    "Escribir una función llamada `soleg` que resuelva sistemas lineales $ Ax = b $ utilizando eliminación Gaussiana y resolviendo el sistema triangular superior."
   ]
  },
  {
   "cell_type": "code",
   "execution_count": 78,
   "metadata": {},
   "outputs": [],
   "source": [
    "\n",
    "def soleg(A, b):\n",
    "    \n",
    "    # conseguimos la simplificación\n",
    "    U, y = egauss(A, b)\n",
    "    \n",
    "    # resolvemos el sistema triangular superior\n",
    "    x = soltsup(U, y)\n",
    "    \n",
    "    return x"
   ]
  },
  {
   "cell_type": "markdown",
   "metadata": {},
   "source": [
    "Probamos una solución conocida:\n",
    "\n",
    "$$\n",
    "\\left(\\begin{array}{cc}\n",
    "6 & -2 & 2 & 4 \\\\\n",
    "12 & -8 & 6 & 10 \\\\\n",
    "3 & -13 & 9 & 3 \\\\\n",
    "-6 & 4 & 1 & -18\n",
    "\\end{array}\\right)\n",
    "\\left(\\begin{array}{cc}\n",
    "1 \\\\\n",
    "-3 \\\\\n",
    "-2 \\\\\n",
    "1\n",
    "\\end{array}\\right)\n",
    "=\n",
    "\\left(\\begin{array}{cc}\n",
    "12 \\\\\n",
    "34 \\\\\n",
    "27 \\\\\n",
    "-38\n",
    "\\end{array}\\right)\n",
    "$$ "
   ]
  },
  {
   "cell_type": "code",
   "execution_count": 79,
   "metadata": {},
   "outputs": [
    {
     "data": {
      "text/plain": [
       "array([ 1., -3., -2.,  1.], dtype=float32)"
      ]
     },
     "execution_count": 79,
     "metadata": {},
     "output_type": "execute_result"
    }
   ],
   "source": [
    "# construir las matrices\n",
    "A = np.stack([[6, -2, 2, 4],\n",
    "              [12, -8, 6, 10],\n",
    "              [3, -13, 9, 3],\n",
    "              [-6, 4, 1, -18]])\n",
    "\n",
    "b = np.array([12, 34, 27, -38])\n",
    "\n",
    "# usamos soleg\n",
    "\n",
    "x = soleg(A, b)\n",
    "\n",
    "x"
   ]
  },
  {
   "cell_type": "markdown",
   "metadata": {},
   "source": [
    "## 3)\n",
    "\n",
    "Escribir una función llamada `sollu` que resuelva sistemas lineales $ Ax = b $ usando descomposición LU con pivoteo (para obtener dicha descomposición investigar el subpaquete de la librería scipy: `linalg`) para luego resolver $ Ly = P^-1 b $ (¿Cómo se puede obtener la inversa de una matriz de pivoteo?) y $ Ux = y $ usando `soltrinf` y `soltrsup`. la salida debe ser la solución $x$ y debe tener de entrada $ (A, b) $ con $ A \\in \\mathbb R^{nxn} $ y $ b \\in \\mathbb R^n $. "
   ]
  },
  {
   "cell_type": "code",
   "execution_count": null,
   "metadata": {},
   "outputs": [],
   "source": [
    "def sollu(A, b):\n",
    "    \n",
    "    "
   ]
  }
 ],
 "metadata": {
  "kernelspec": {
   "display_name": "Python 3",
   "language": "python",
   "name": "python3"
  },
  "language_info": {
   "codemirror_mode": {
    "name": "ipython",
    "version": 3
   },
   "file_extension": ".py",
   "mimetype": "text/x-python",
   "name": "python",
   "nbconvert_exporter": "python",
   "pygments_lexer": "ipython3",
   "version": "3.7.5"
  }
 },
 "nbformat": 4,
 "nbformat_minor": 4
}
